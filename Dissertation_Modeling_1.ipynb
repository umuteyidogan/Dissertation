{
  "cells": [
    {
      "cell_type": "code",
      "execution_count": null,
      "metadata": {
        "colab": {
          "base_uri": "https://localhost:8080/"
        },
        "id": "huN63qAAslUM",
        "outputId": "83d4d093-dce3-4927-8ec5-6cf6abea4780"
      },
      "outputs": [
        {
          "output_type": "stream",
          "name": "stdout",
          "text": [
            "Mounted at /content/drive\n"
          ]
        },
        {
          "output_type": "stream",
          "name": "stderr",
          "text": [
            "<ipython-input-1-8be9caf80ec2>:9: DtypeWarning: Columns (108) have mixed types. Specify dtype option on import or set low_memory=False.\n",
            "  male_players = pd.read_csv('/content/drive/My Drive/Dissertation_Datasets/male_players.csv')\n"
          ]
        },
        {
          "output_type": "stream",
          "name": "stdout",
          "text": [
            "Male Players:\n",
            "   player_id                             player_url  fifa_version  \\\n",
            "0     231747    /player/231747/kylian-mbappe/240002          24.0   \n",
            "1     239085   /player/239085/erling-haaland/240002          24.0   \n",
            "2     192985  /player/192985/kevin-de-bruyne/240002          24.0   \n",
            "3     158023     /player/158023/lionel-messi/240002          24.0   \n",
            "4     165153    /player/165153/karim-benzema/240002          24.0   \n",
            "\n",
            "   fifa_update update_as_of    short_name                       long_name  \\\n",
            "0          2.0   2023-09-22     K. Mbappé            Kylian Mbappé Lottin   \n",
            "1          2.0   2023-09-22    E. Haaland            Erling Braut Haaland   \n",
            "2          2.0   2023-09-22  K. De Bruyne                 Kevin De Bruyne   \n",
            "3          2.0   2023-09-22      L. Messi  Lionel Andrés Messi Cuccittini   \n",
            "4          2.0   2023-09-22    K. Benzema                   Karim Benzema   \n",
            "\n",
            "  player_positions  overall  potential  ...   ldm   cdm   rdm   rwb    lb  \\\n",
            "0           ST, LW       91         94  ...  63+3  63+3  63+3  68+3  63+3   \n",
            "1               ST       91         94  ...  63+3  63+3  63+3  62+3  60+3   \n",
            "2          CM, CAM       91         91  ...  80+3  80+3  80+3  79+3  75+3   \n",
            "3          CF, CAM       90         90  ...  63+3  63+3  63+3  64+3  59+3   \n",
            "4           CF, ST       90         90  ...  64+3  64+3  64+3  64+3  60+3   \n",
            "\n",
            "    lcb    cb   rcb    rb    gk  \n",
            "0  54+3  54+3  54+3  63+3  18+3  \n",
            "1  62+3  62+3  62+3  60+3  19+3  \n",
            "2  70+3  70+3  70+3  75+3  21+3  \n",
            "3  49+3  49+3  49+3  59+3  19+3  \n",
            "4  55+3  55+3  55+3  60+3  18+3  \n",
            "\n",
            "[5 rows x 109 columns]\n",
            "\n",
            " Male Teams:\n",
            "   team_id                           team_url  fifa_version  fifa_update  \\\n",
            "0       10    /team/10/manchester-city/240002            24            2   \n",
            "1      243       /team/243/real-madrid/240002            24            2   \n",
            "2     1318          /team/1318/england/240002            24            2   \n",
            "3       21  /team/21/fc-bayern-munchen/240002            24            2   \n",
            "4      241      /team/241/fc-barcelona/240002            24            2   \n",
            "\n",
            "  update_as_of          team_name  league_id             league_name  \\\n",
            "0   2023-09-22    Manchester City         13          Premier League   \n",
            "1   2023-09-22        Real Madrid         53                 La Liga   \n",
            "2   2023-09-22            England         78  Friendly International   \n",
            "3   2023-09-22  FC Bayern München         19              Bundesliga   \n",
            "4   2023-09-22       FC Barcelona         53                 La Liga   \n",
            "\n",
            "   league_level  nationality_id  ... off_corners  off_free_kicks  \\\n",
            "0           1.0              14  ...         3.0             3.0   \n",
            "1           1.0              45  ...         3.0             3.0   \n",
            "2           NaN              14  ...         3.0             3.0   \n",
            "3           1.0              21  ...         3.0             3.0   \n",
            "4           1.0              45  ...         3.0             3.0   \n",
            "\n",
            "   build_up_play_speed  build_up_play_dribbling  build_up_play_passing  \\\n",
            "0                  NaN                      NaN                    NaN   \n",
            "1                  NaN                      NaN                    NaN   \n",
            "2                  NaN                      NaN                    NaN   \n",
            "3                  NaN                      NaN                    NaN   \n",
            "4                  NaN                      NaN                    NaN   \n",
            "\n",
            "   build_up_play_positioning chance_creation_passing  \\\n",
            "0                        NaN                     NaN   \n",
            "1                        NaN                     NaN   \n",
            "2                        NaN                     NaN   \n",
            "3                        NaN                     NaN   \n",
            "4                        NaN                     NaN   \n",
            "\n",
            "   chance_creation_crossing  chance_creation_shooting  \\\n",
            "0                       NaN                       NaN   \n",
            "1                       NaN                       NaN   \n",
            "2                       NaN                       NaN   \n",
            "3                       NaN                       NaN   \n",
            "4                       NaN                       NaN   \n",
            "\n",
            "   chance_creation_positioning  \n",
            "0                          NaN  \n",
            "1                          NaN  \n",
            "2                          NaN  \n",
            "3                          NaN  \n",
            "4                          NaN  \n",
            "\n",
            "[5 rows x 54 columns]\n"
          ]
        }
      ],
      "source": [
        "#  Mount Google Drive\n",
        "from google.colab import drive\n",
        "drive.mount('/content/drive')\n",
        "\n",
        "import pandas as pd\n",
        "\n",
        "\n",
        "male_players = pd.read_csv('/content/drive/My Drive/Dissertation_Datasets/male_players.csv')\n",
        "male_teams = pd.read_csv('/content/drive/My Drive/Dissertation_Datasets/male_teams.csv')\n",
        "\n",
        "# Verify loading by displaying the first few rows of each dataset\n",
        "print(\"Male Players:\")\n",
        "print(male_players.head())\n",
        "\n",
        "print(\"\\n Male Teams:\")\n",
        "print(male_teams.head())"
      ]
    },
    {
      "cell_type": "code",
      "execution_count": null,
      "metadata": {
        "colab": {
          "base_uri": "https://localhost:8080/"
        },
        "id": "Yu4I2-BusyPY",
        "outputId": "cbc9eed6-72e8-4270-b0a3-4221b35e32ca"
      },
      "outputs": [
        {
          "output_type": "stream",
          "name": "stdout",
          "text": [
            "\n",
            "Male Players Columns:\n",
            "['player_id', 'player_url', 'fifa_version', 'fifa_update', 'update_as_of', 'short_name', 'long_name', 'player_positions', 'overall', 'potential', 'value_eur', 'wage_eur', 'age', 'dob', 'height_cm', 'weight_kg', 'club_team_id', 'club_name', 'league_id', 'league_name', 'league_level', 'club_position', 'club_jersey_number', 'club_loaned_from', 'club_joined_date', 'club_contract_valid_until_year', 'nationality_id', 'nationality_name', 'nation_team_id', 'nation_position', 'nation_jersey_number', 'preferred_foot', 'weak_foot', 'skill_moves', 'international_reputation', 'work_rate', 'body_type', 'real_face', 'release_clause_eur', 'player_tags', 'player_traits', 'pace', 'shooting', 'passing', 'dribbling', 'defending', 'physic', 'attacking_crossing', 'attacking_finishing', 'attacking_heading_accuracy', 'attacking_short_passing', 'attacking_volleys', 'skill_dribbling', 'skill_curve', 'skill_fk_accuracy', 'skill_long_passing', 'skill_ball_control', 'movement_acceleration', 'movement_sprint_speed', 'movement_agility', 'movement_reactions', 'movement_balance', 'power_shot_power', 'power_jumping', 'power_stamina', 'power_strength', 'power_long_shots', 'mentality_aggression', 'mentality_interceptions', 'mentality_positioning', 'mentality_vision', 'mentality_penalties', 'mentality_composure', 'defending_marking_awareness', 'defending_standing_tackle', 'defending_sliding_tackle', 'goalkeeping_diving', 'goalkeeping_handling', 'goalkeeping_kicking', 'goalkeeping_positioning', 'goalkeeping_reflexes', 'goalkeeping_speed', 'ls', 'st', 'rs', 'lw', 'lf', 'cf', 'rf', 'rw', 'lam', 'cam', 'ram', 'lm', 'lcm', 'cm', 'rcm', 'rm', 'lwb', 'ldm', 'cdm', 'rdm', 'rwb', 'lb', 'lcb', 'cb', 'rcb', 'rb', 'gk']\n",
            "\n",
            "Male Teams Columns:\n",
            "['team_id', 'team_url', 'fifa_version', 'fifa_update', 'update_as_of', 'team_name', 'league_id', 'league_name', 'league_level', 'nationality_id', 'nationality_name', 'overall', 'attack', 'midfield', 'defence', 'coach_id', 'home_stadium', 'rival_team', 'international_prestige', 'domestic_prestige', 'transfer_budget_eur', 'club_worth_eur', 'starting_xi_average_age', 'whole_team_average_age', 'captain', 'short_free_kick', 'long_free_kick', 'left_short_free_kick', 'right_short_free_kick', 'penalties', 'left_corner', 'right_corner', 'def_style', 'def_team_width', 'def_team_depth', 'def_defence_pressure', 'def_defence_aggression', 'def_defence_width', 'def_defence_defender_line', 'off_style', 'off_build_up_play', 'off_chance_creation', 'off_team_width', 'off_players_in_box', 'off_corners', 'off_free_kicks', 'build_up_play_speed', 'build_up_play_dribbling', 'build_up_play_passing', 'build_up_play_positioning', 'chance_creation_passing', 'chance_creation_crossing', 'chance_creation_shooting', 'chance_creation_positioning']\n"
          ]
        }
      ],
      "source": [
        "# Function to print column names of each DataFrame\n",
        "def print_column_names(df, name):\n",
        "    print(f\"\\n{name} Columns:\")\n",
        "    print(df.columns.tolist())\n",
        "\n",
        "# Print column names for each dataset\n",
        "print_column_names(male_players, \"Male Players\")\n",
        "print_column_names(male_teams, \"Male Teams\")"
      ]
    },
    {
      "cell_type": "code",
      "execution_count": null,
      "metadata": {
        "colab": {
          "base_uri": "https://localhost:8080/"
        },
        "id": "mSAyTOFyszyD",
        "outputId": "52428518-b919-41f4-ab59-23c1b029b72b"
      },
      "outputs": [
        {
          "output_type": "stream",
          "name": "stdout",
          "text": [
            "\n",
            "Dataset: Male Players\n",
            "Column Names: ['player_id', 'player_url', 'fifa_version', 'fifa_update', 'update_as_of', 'short_name', 'long_name', 'player_positions', 'overall', 'potential', 'value_eur', 'wage_eur', 'age', 'dob', 'height_cm', 'weight_kg', 'club_team_id', 'club_name', 'league_id', 'league_name', 'league_level', 'club_position', 'club_jersey_number', 'club_loaned_from', 'club_joined_date', 'club_contract_valid_until_year', 'nationality_id', 'nationality_name', 'nation_team_id', 'nation_position', 'nation_jersey_number', 'preferred_foot', 'weak_foot', 'skill_moves', 'international_reputation', 'work_rate', 'body_type', 'real_face', 'release_clause_eur', 'player_tags', 'player_traits', 'pace', 'shooting', 'passing', 'dribbling', 'defending', 'physic', 'attacking_crossing', 'attacking_finishing', 'attacking_heading_accuracy', 'attacking_short_passing', 'attacking_volleys', 'skill_dribbling', 'skill_curve', 'skill_fk_accuracy', 'skill_long_passing', 'skill_ball_control', 'movement_acceleration', 'movement_sprint_speed', 'movement_agility', 'movement_reactions', 'movement_balance', 'power_shot_power', 'power_jumping', 'power_stamina', 'power_strength', 'power_long_shots', 'mentality_aggression', 'mentality_interceptions', 'mentality_positioning', 'mentality_vision', 'mentality_penalties', 'mentality_composure', 'defending_marking_awareness', 'defending_standing_tackle', 'defending_sliding_tackle', 'goalkeeping_diving', 'goalkeeping_handling', 'goalkeeping_kicking', 'goalkeeping_positioning', 'goalkeeping_reflexes', 'goalkeeping_speed', 'ls', 'st', 'rs', 'lw', 'lf', 'cf', 'rf', 'rw', 'lam', 'cam', 'ram', 'lm', 'lcm', 'cm', 'rcm', 'rm', 'lwb', 'ldm', 'cdm', 'rdm', 'rwb', 'lb', 'lcb', 'cb', 'rcb', 'rb', 'gk']\n",
            "Data Types: {'player_id': dtype('int64'), 'player_url': dtype('O'), 'fifa_version': dtype('float64'), 'fifa_update': dtype('float64'), 'update_as_of': dtype('O'), 'short_name': dtype('O'), 'long_name': dtype('O'), 'player_positions': dtype('O'), 'overall': dtype('int64'), 'potential': dtype('int64'), 'value_eur': dtype('float64'), 'wage_eur': dtype('float64'), 'age': dtype('int64'), 'dob': dtype('O'), 'height_cm': dtype('int64'), 'weight_kg': dtype('int64'), 'club_team_id': dtype('float64'), 'club_name': dtype('O'), 'league_id': dtype('float64'), 'league_name': dtype('O'), 'league_level': dtype('float64'), 'club_position': dtype('O'), 'club_jersey_number': dtype('float64'), 'club_loaned_from': dtype('O'), 'club_joined_date': dtype('O'), 'club_contract_valid_until_year': dtype('float64'), 'nationality_id': dtype('int64'), 'nationality_name': dtype('O'), 'nation_team_id': dtype('float64'), 'nation_position': dtype('O'), 'nation_jersey_number': dtype('float64'), 'preferred_foot': dtype('O'), 'weak_foot': dtype('int64'), 'skill_moves': dtype('int64'), 'international_reputation': dtype('int64'), 'work_rate': dtype('O'), 'body_type': dtype('O'), 'real_face': dtype('O'), 'release_clause_eur': dtype('float64'), 'player_tags': dtype('O'), 'player_traits': dtype('O'), 'pace': dtype('float64'), 'shooting': dtype('float64'), 'passing': dtype('float64'), 'dribbling': dtype('float64'), 'defending': dtype('float64'), 'physic': dtype('float64'), 'attacking_crossing': dtype('int64'), 'attacking_finishing': dtype('int64'), 'attacking_heading_accuracy': dtype('int64'), 'attacking_short_passing': dtype('int64'), 'attacking_volleys': dtype('int64'), 'skill_dribbling': dtype('int64'), 'skill_curve': dtype('int64'), 'skill_fk_accuracy': dtype('int64'), 'skill_long_passing': dtype('int64'), 'skill_ball_control': dtype('int64'), 'movement_acceleration': dtype('int64'), 'movement_sprint_speed': dtype('int64'), 'movement_agility': dtype('int64'), 'movement_reactions': dtype('int64'), 'movement_balance': dtype('int64'), 'power_shot_power': dtype('int64'), 'power_jumping': dtype('int64'), 'power_stamina': dtype('int64'), 'power_strength': dtype('int64'), 'power_long_shots': dtype('int64'), 'mentality_aggression': dtype('int64'), 'mentality_interceptions': dtype('int64'), 'mentality_positioning': dtype('int64'), 'mentality_vision': dtype('int64'), 'mentality_penalties': dtype('int64'), 'mentality_composure': dtype('float64'), 'defending_marking_awareness': dtype('int64'), 'defending_standing_tackle': dtype('int64'), 'defending_sliding_tackle': dtype('int64'), 'goalkeeping_diving': dtype('int64'), 'goalkeeping_handling': dtype('int64'), 'goalkeeping_kicking': dtype('int64'), 'goalkeeping_positioning': dtype('int64'), 'goalkeeping_reflexes': dtype('int64'), 'goalkeeping_speed': dtype('float64'), 'ls': dtype('O'), 'st': dtype('O'), 'rs': dtype('O'), 'lw': dtype('O'), 'lf': dtype('O'), 'cf': dtype('O'), 'rf': dtype('O'), 'rw': dtype('O'), 'lam': dtype('O'), 'cam': dtype('O'), 'ram': dtype('O'), 'lm': dtype('O'), 'lcm': dtype('O'), 'cm': dtype('O'), 'rcm': dtype('O'), 'rm': dtype('O'), 'lwb': dtype('O'), 'ldm': dtype('O'), 'cdm': dtype('O'), 'rdm': dtype('O'), 'rwb': dtype('O'), 'lb': dtype('O'), 'lcb': dtype('O'), 'cb': dtype('O'), 'rcb': dtype('O'), 'rb': dtype('O'), 'gk': dtype('O')}\n",
            "Sample Data: [{'player_id': 231747, 'player_url': '/player/231747/kylian-mbappe/240002', 'fifa_version': 24.0, 'fifa_update': 2.0, 'update_as_of': '2023-09-22', 'short_name': 'K. Mbappé', 'long_name': 'Kylian Mbappé Lottin', 'player_positions': 'ST, LW', 'overall': 91, 'potential': 94, 'value_eur': 181500000.0, 'wage_eur': 230000.0, 'age': 24, 'dob': '1998-12-20', 'height_cm': 182, 'weight_kg': 75, 'club_team_id': 73.0, 'club_name': 'Paris Saint Germain', 'league_id': 16.0, 'league_name': 'Ligue 1', 'league_level': 1.0, 'club_position': 'LW', 'club_jersey_number': 7.0, 'club_loaned_from': nan, 'club_joined_date': '2018-07-01', 'club_contract_valid_until_year': 2024.0, 'nationality_id': 18, 'nationality_name': 'France', 'nation_team_id': 1335.0, 'nation_position': 'LW', 'nation_jersey_number': 10.0, 'preferred_foot': 'Right', 'weak_foot': 4, 'skill_moves': 5, 'international_reputation': 5, 'work_rate': 'High/Low', 'body_type': 'Unique', 'real_face': 'Yes', 'release_clause_eur': 349400000.0, 'player_tags': '#Speedster, #Dribbler, #Acrobat, #Clinical finisher, #Complete forward', 'player_traits': 'Quick Step +, Rapid, Flair, Trivela', 'pace': 97.0, 'shooting': 90.0, 'passing': 80.0, 'dribbling': 92.0, 'defending': 36.0, 'physic': 78.0, 'attacking_crossing': 78, 'attacking_finishing': 94, 'attacking_heading_accuracy': 73, 'attacking_short_passing': 86, 'attacking_volleys': 84, 'skill_dribbling': 93, 'skill_curve': 80, 'skill_fk_accuracy': 69, 'skill_long_passing': 71, 'skill_ball_control': 92, 'movement_acceleration': 97, 'movement_sprint_speed': 97, 'movement_agility': 93, 'movement_reactions': 93, 'movement_balance': 82, 'power_shot_power': 90, 'power_jumping': 88, 'power_stamina': 88, 'power_strength': 77, 'power_long_shots': 83, 'mentality_aggression': 64, 'mentality_interceptions': 38, 'mentality_positioning': 93, 'mentality_vision': 83, 'mentality_penalties': 84, 'mentality_composure': 88.0, 'defending_marking_awareness': 26, 'defending_standing_tackle': 34, 'defending_sliding_tackle': 32, 'goalkeeping_diving': 13, 'goalkeeping_handling': 5, 'goalkeeping_kicking': 7, 'goalkeeping_positioning': 11, 'goalkeeping_reflexes': 6, 'goalkeeping_speed': nan, 'ls': '90+3', 'st': '90+3', 'rs': '90+3', 'lw': '91', 'lf': '91', 'cf': '91', 'rf': '91', 'rw': '91', 'lam': '89+3', 'cam': '89+3', 'ram': '89+3', 'lm': '89+3', 'lcm': '81+3', 'cm': '81+3', 'rcm': '81+3', 'rm': '89+3', 'lwb': '68+3', 'ldm': '63+3', 'cdm': '63+3', 'rdm': '63+3', 'rwb': '68+3', 'lb': '63+3', 'lcb': '54+3', 'cb': '54+3', 'rcb': '54+3', 'rb': '63+3', 'gk': '18+3'}, {'player_id': 239085, 'player_url': '/player/239085/erling-haaland/240002', 'fifa_version': 24.0, 'fifa_update': 2.0, 'update_as_of': '2023-09-22', 'short_name': 'E. Haaland', 'long_name': 'Erling Braut Haaland', 'player_positions': 'ST', 'overall': 91, 'potential': 94, 'value_eur': 185000000.0, 'wage_eur': 340000.0, 'age': 22, 'dob': '2000-07-21', 'height_cm': 195, 'weight_kg': 94, 'club_team_id': 10.0, 'club_name': 'Manchester City', 'league_id': 13.0, 'league_name': 'Premier League', 'league_level': 1.0, 'club_position': 'ST', 'club_jersey_number': 9.0, 'club_loaned_from': nan, 'club_joined_date': '2022-07-01', 'club_contract_valid_until_year': 2027.0, 'nationality_id': 36, 'nationality_name': 'Norway', 'nation_team_id': 1352.0, 'nation_position': 'ST', 'nation_jersey_number': 9.0, 'preferred_foot': 'Left', 'weak_foot': 3, 'skill_moves': 3, 'international_reputation': 5, 'work_rate': 'High/Medium', 'body_type': 'Unique', 'real_face': 'Yes', 'release_clause_eur': 356100000.0, 'player_tags': '#Aerial threat, #Distance shooter, #Strength, #Clinical finisher, #Complete forward', 'player_traits': 'Acrobatic +, Power Header, Quick Step', 'pace': 89.0, 'shooting': 93.0, 'passing': 66.0, 'dribbling': 80.0, 'defending': 45.0, 'physic': 88.0, 'attacking_crossing': 47, 'attacking_finishing': 96, 'attacking_heading_accuracy': 83, 'attacking_short_passing': 77, 'attacking_volleys': 90, 'skill_dribbling': 79, 'skill_curve': 77, 'skill_fk_accuracy': 62, 'skill_long_passing': 53, 'skill_ball_control': 82, 'movement_acceleration': 82, 'movement_sprint_speed': 94, 'movement_agility': 76, 'movement_reactions': 94, 'movement_balance': 72, 'power_shot_power': 94, 'power_jumping': 93, 'power_stamina': 76, 'power_strength': 93, 'power_long_shots': 86, 'mentality_aggression': 87, 'mentality_interceptions': 43, 'mentality_positioning': 96, 'mentality_vision': 74, 'mentality_penalties': 84, 'mentality_composure': 87.0, 'defending_marking_awareness': 38, 'defending_standing_tackle': 47, 'defending_sliding_tackle': 29, 'goalkeeping_diving': 7, 'goalkeeping_handling': 14, 'goalkeeping_kicking': 13, 'goalkeeping_positioning': 11, 'goalkeeping_reflexes': 7, 'goalkeeping_speed': nan, 'ls': '90+3', 'st': '90+3', 'rs': '90+3', 'lw': '82', 'lf': '86', 'cf': '86', 'rf': '86', 'rw': '82', 'lam': '82+3', 'cam': '82+3', 'ram': '82+3', 'lm': '79+3', 'lcm': '74+3', 'cm': '74+3', 'rcm': '74+3', 'rm': '79+3', 'lwb': '62+3', 'ldm': '63+3', 'cdm': '63+3', 'rdm': '63+3', 'rwb': '62+3', 'lb': '60+3', 'lcb': '62+3', 'cb': '62+3', 'rcb': '62+3', 'rb': '60+3', 'gk': '19+3'}, {'player_id': 192985, 'player_url': '/player/192985/kevin-de-bruyne/240002', 'fifa_version': 24.0, 'fifa_update': 2.0, 'update_as_of': '2023-09-22', 'short_name': 'K. De Bruyne', 'long_name': 'Kevin De Bruyne', 'player_positions': 'CM, CAM', 'overall': 91, 'potential': 91, 'value_eur': 103000000.0, 'wage_eur': 350000.0, 'age': 32, 'dob': '1991-06-28', 'height_cm': 181, 'weight_kg': 75, 'club_team_id': 10.0, 'club_name': 'Manchester City', 'league_id': 13.0, 'league_name': 'Premier League', 'league_level': 1.0, 'club_position': 'SUB', 'club_jersey_number': 17.0, 'club_loaned_from': nan, 'club_joined_date': '2015-08-30', 'club_contract_valid_until_year': 2025.0, 'nationality_id': 7, 'nationality_name': 'Belgium', 'nation_team_id': 1325.0, 'nation_position': 'CAM', 'nation_jersey_number': 7.0, 'preferred_foot': 'Right', 'weak_foot': 5, 'skill_moves': 4, 'international_reputation': 5, 'work_rate': 'High/Medium', 'body_type': 'Unique', 'real_face': 'Yes', 'release_clause_eur': 190600000.0, 'player_tags': '#Dribbler, #Playmaker, #Distance shooter, #Crosser, #Complete midfielder', 'player_traits': 'Pinged Pass +, Dead Ball, Incisive Pass, Long Ball Pass, Whipped Cross, Trivela', 'pace': 72.0, 'shooting': 88.0, 'passing': 94.0, 'dribbling': 87.0, 'defending': 65.0, 'physic': 78.0, 'attacking_crossing': 95, 'attacking_finishing': 85, 'attacking_heading_accuracy': 55, 'attacking_short_passing': 94, 'attacking_volleys': 83, 'skill_dribbling': 86, 'skill_curve': 92, 'skill_fk_accuracy': 83, 'skill_long_passing': 94, 'skill_ball_control': 92, 'movement_acceleration': 72, 'movement_sprint_speed': 72, 'movement_agility': 74, 'movement_reactions': 92, 'movement_balance': 78, 'power_shot_power': 92, 'power_jumping': 72, 'power_stamina': 88, 'power_strength': 74, 'power_long_shots': 92, 'mentality_aggression': 75, 'mentality_interceptions': 66, 'mentality_positioning': 88, 'mentality_vision': 95, 'mentality_penalties': 83, 'mentality_composure': 88.0, 'defending_marking_awareness': 66, 'defending_standing_tackle': 70, 'defending_sliding_tackle': 53, 'goalkeeping_diving': 15, 'goalkeeping_handling': 13, 'goalkeeping_kicking': 5, 'goalkeeping_positioning': 10, 'goalkeeping_reflexes': 13, 'goalkeeping_speed': nan, 'ls': '83+3', 'st': '83+3', 'rs': '83+3', 'lw': '87', 'lf': '88', 'cf': '88', 'rf': '88', 'rw': '87', 'lam': '89+2', 'cam': '89+2', 'ram': '89+2', 'lm': '88+3', 'lcm': '90+1', 'cm': '90+1', 'rcm': '90+1', 'rm': '88+3', 'lwb': '79+3', 'ldm': '80+3', 'cdm': '80+3', 'rdm': '80+3', 'rwb': '79+3', 'lb': '75+3', 'lcb': '70+3', 'cb': '70+3', 'rcb': '70+3', 'rb': '75+3', 'gk': '21+3'}]\n",
            "\n",
            "Dataset: Male Teams\n",
            "Column Names: ['team_id', 'team_url', 'fifa_version', 'fifa_update', 'update_as_of', 'team_name', 'league_id', 'league_name', 'league_level', 'nationality_id', 'nationality_name', 'overall', 'attack', 'midfield', 'defence', 'coach_id', 'home_stadium', 'rival_team', 'international_prestige', 'domestic_prestige', 'transfer_budget_eur', 'club_worth_eur', 'starting_xi_average_age', 'whole_team_average_age', 'captain', 'short_free_kick', 'long_free_kick', 'left_short_free_kick', 'right_short_free_kick', 'penalties', 'left_corner', 'right_corner', 'def_style', 'def_team_width', 'def_team_depth', 'def_defence_pressure', 'def_defence_aggression', 'def_defence_width', 'def_defence_defender_line', 'off_style', 'off_build_up_play', 'off_chance_creation', 'off_team_width', 'off_players_in_box', 'off_corners', 'off_free_kicks', 'build_up_play_speed', 'build_up_play_dribbling', 'build_up_play_passing', 'build_up_play_positioning', 'chance_creation_passing', 'chance_creation_crossing', 'chance_creation_shooting', 'chance_creation_positioning']\n",
            "Data Types: {'team_id': dtype('int64'), 'team_url': dtype('O'), 'fifa_version': dtype('int64'), 'fifa_update': dtype('int64'), 'update_as_of': dtype('O'), 'team_name': dtype('O'), 'league_id': dtype('int64'), 'league_name': dtype('O'), 'league_level': dtype('float64'), 'nationality_id': dtype('int64'), 'nationality_name': dtype('O'), 'overall': dtype('int64'), 'attack': dtype('int64'), 'midfield': dtype('int64'), 'defence': dtype('int64'), 'coach_id': dtype('float64'), 'home_stadium': dtype('O'), 'rival_team': dtype('int64'), 'international_prestige': dtype('int64'), 'domestic_prestige': dtype('float64'), 'transfer_budget_eur': dtype('float64'), 'club_worth_eur': dtype('float64'), 'starting_xi_average_age': dtype('float64'), 'whole_team_average_age': dtype('float64'), 'captain': dtype('float64'), 'short_free_kick': dtype('float64'), 'long_free_kick': dtype('float64'), 'left_short_free_kick': dtype('float64'), 'right_short_free_kick': dtype('float64'), 'penalties': dtype('float64'), 'left_corner': dtype('float64'), 'right_corner': dtype('float64'), 'def_style': dtype('O'), 'def_team_width': dtype('float64'), 'def_team_depth': dtype('float64'), 'def_defence_pressure': dtype('float64'), 'def_defence_aggression': dtype('float64'), 'def_defence_width': dtype('float64'), 'def_defence_defender_line': dtype('O'), 'off_style': dtype('O'), 'off_build_up_play': dtype('O'), 'off_chance_creation': dtype('O'), 'off_team_width': dtype('float64'), 'off_players_in_box': dtype('float64'), 'off_corners': dtype('float64'), 'off_free_kicks': dtype('float64'), 'build_up_play_speed': dtype('float64'), 'build_up_play_dribbling': dtype('float64'), 'build_up_play_passing': dtype('float64'), 'build_up_play_positioning': dtype('O'), 'chance_creation_passing': dtype('float64'), 'chance_creation_crossing': dtype('float64'), 'chance_creation_shooting': dtype('float64'), 'chance_creation_positioning': dtype('O')}\n",
            "Sample Data: [{'team_id': 10, 'team_url': '/team/10/manchester-city/240002', 'fifa_version': 24, 'fifa_update': 2, 'update_as_of': '2023-09-22', 'team_name': 'Manchester City', 'league_id': 13, 'league_name': 'Premier League', 'league_level': 1.0, 'nationality_id': 14, 'nationality_name': 'England', 'overall': 85, 'attack': 87, 'midfield': 86, 'defence': 83, 'coach_id': 455361.0, 'home_stadium': 'Etihad Stadium', 'rival_team': 11, 'international_prestige': 10, 'domestic_prestige': 10.0, 'transfer_budget_eur': nan, 'club_worth_eur': 4600000000.0, 'starting_xi_average_age': 26.91, 'whole_team_average_age': 25.14, 'captain': 188377.0, 'short_free_kick': 237692.0, 'long_free_kick': 246191.0, 'left_short_free_kick': 246191.0, 'right_short_free_kick': 237692.0, 'penalties': 239085.0, 'left_corner': 246191.0, 'right_corner': 237692.0, 'def_style': 'Press after possession loss', 'def_team_width': 71.0, 'def_team_depth': 61.0, 'def_defence_pressure': nan, 'def_defence_aggression': nan, 'def_defence_width': nan, 'def_defence_defender_line': nan, 'off_style': nan, 'off_build_up_play': 'Balanced', 'off_chance_creation': 'Balanced', 'off_team_width': 81.0, 'off_players_in_box': 6.0, 'off_corners': 3.0, 'off_free_kicks': 3.0, 'build_up_play_speed': nan, 'build_up_play_dribbling': nan, 'build_up_play_passing': nan, 'build_up_play_positioning': nan, 'chance_creation_passing': nan, 'chance_creation_crossing': nan, 'chance_creation_shooting': nan, 'chance_creation_positioning': nan}, {'team_id': 243, 'team_url': '/team/243/real-madrid/240002', 'fifa_version': 24, 'fifa_update': 2, 'update_as_of': '2023-09-22', 'team_name': 'Real Madrid', 'league_id': 53, 'league_name': 'La Liga', 'league_level': 1.0, 'nationality_id': 45, 'nationality_name': 'Spain', 'overall': 85, 'attack': 85, 'midfield': 85, 'defence': 83, 'coach_id': 455800.0, 'home_stadium': 'Estadio Santiago Bernabéu', 'rival_team': 241, 'international_prestige': 10, 'domestic_prestige': 10.0, 'transfer_budget_eur': nan, 'club_worth_eur': 4800000000.0, 'starting_xi_average_age': 25.91, 'whole_team_average_age': 24.52, 'captain': 204963.0, 'short_free_kick': 197445.0, 'long_free_kick': 197445.0, 'left_short_free_kick': 239053.0, 'right_short_free_kick': 197445.0, 'penalties': 243812.0, 'left_corner': 239053.0, 'right_corner': 239053.0, 'def_style': 'Balanced', 'def_team_width': 51.0, 'def_team_depth': 71.0, 'def_defence_pressure': nan, 'def_defence_aggression': nan, 'def_defence_width': nan, 'def_defence_defender_line': nan, 'off_style': nan, 'off_build_up_play': 'Balanced', 'off_chance_creation': 'Balanced', 'off_team_width': 51.0, 'off_players_in_box': 6.0, 'off_corners': 3.0, 'off_free_kicks': 3.0, 'build_up_play_speed': nan, 'build_up_play_dribbling': nan, 'build_up_play_passing': nan, 'build_up_play_positioning': nan, 'chance_creation_passing': nan, 'chance_creation_crossing': nan, 'chance_creation_shooting': nan, 'chance_creation_positioning': nan}, {'team_id': 1318, 'team_url': '/team/1318/england/240002', 'fifa_version': 24, 'fifa_update': 2, 'update_as_of': '2023-09-22', 'team_name': 'England', 'league_id': 78, 'league_name': 'Friendly International', 'league_level': nan, 'nationality_id': 14, 'nationality_name': 'England', 'overall': 85, 'attack': 86, 'midfield': 83, 'defence': 83, 'coach_id': 474589.0, 'home_stadium': 'Wembley Stadium', 'rival_team': 1337, 'international_prestige': 8, 'domestic_prestige': nan, 'transfer_budget_eur': nan, 'club_worth_eur': nan, 'starting_xi_average_age': 27.45, 'whole_team_average_age': 26.62, 'captain': 202126.0, 'short_free_kick': 205988.0, 'long_free_kick': 202126.0, 'left_short_free_kick': 205988.0, 'right_short_free_kick': 205988.0, 'penalties': 202126.0, 'left_corner': 205988.0, 'right_corner': 205988.0, 'def_style': 'Press after possession loss', 'def_team_width': 61.0, 'def_team_depth': 61.0, 'def_defence_pressure': nan, 'def_defence_aggression': nan, 'def_defence_width': nan, 'def_defence_defender_line': nan, 'off_style': nan, 'off_build_up_play': 'Slow build up', 'off_chance_creation': 'Possession', 'off_team_width': 81.0, 'off_players_in_box': 4.0, 'off_corners': 3.0, 'off_free_kicks': 3.0, 'build_up_play_speed': nan, 'build_up_play_dribbling': nan, 'build_up_play_passing': nan, 'build_up_play_positioning': nan, 'chance_creation_passing': nan, 'chance_creation_crossing': nan, 'chance_creation_shooting': nan, 'chance_creation_positioning': nan}]\n"
          ]
        }
      ],
      "source": [
        "import pandas as pd\n",
        "\n",
        "# Dictionary to store the data information\n",
        "data_info = {}\n",
        "\n",
        "# Function to summarize each DataFrame\n",
        "def summarize_dataframe(df, name):\n",
        "    info = {\n",
        "        \"Column Names\": df.columns.tolist(),\n",
        "        \"Data Types\": df.dtypes.to_dict(),\n",
        "        \"Sample Data\": df.head(3).to_dict(orient=\"records\")\n",
        "    }\n",
        "    data_info[name] = info\n",
        "\n",
        "# Summarize each dataset\n",
        "summarize_dataframe(male_players, \"Male Players\")\n",
        "summarize_dataframe(male_teams, \"Male Teams\")\n",
        "\n",
        "\n",
        "# Display data information in a structured format\n",
        "for name, info in data_info.items():\n",
        "    print(f\"\\nDataset: {name}\")\n",
        "    print(\"Column Names:\", info[\"Column Names\"])\n",
        "    print(\"Data Types:\", info[\"Data Types\"])\n",
        "    print(\"Sample Data:\", info[\"Sample Data\"])"
      ]
    },
    {
      "cell_type": "code",
      "execution_count": null,
      "metadata": {
        "colab": {
          "base_uri": "https://localhost:8080/"
        },
        "id": "dYtIXVkeuHMm",
        "outputId": "63d38985-e341-49e6-d7dc-5bce1b8235e2"
      },
      "outputs": [
        {
          "output_type": "stream",
          "name": "stdout",
          "text": [
            "All column names in male_players dataset:\n",
            "['player_id', 'player_url', 'fifa_version', 'fifa_update', 'update_as_of', 'short_name', 'long_name', 'player_positions', 'overall', 'potential', 'value_eur', 'wage_eur', 'age', 'dob', 'height_cm', 'weight_kg', 'club_team_id', 'club_name', 'league_id', 'league_name', 'league_level', 'club_position', 'club_jersey_number', 'club_loaned_from', 'club_joined_date', 'club_contract_valid_until_year', 'nationality_id', 'nationality_name', 'nation_team_id', 'nation_position', 'nation_jersey_number', 'preferred_foot', 'weak_foot', 'skill_moves', 'international_reputation', 'work_rate', 'body_type', 'real_face', 'release_clause_eur', 'player_tags', 'player_traits', 'pace', 'shooting', 'passing', 'dribbling', 'defending', 'physic', 'attacking_crossing', 'attacking_finishing', 'attacking_heading_accuracy', 'attacking_short_passing', 'attacking_volleys', 'skill_dribbling', 'skill_curve', 'skill_fk_accuracy', 'skill_long_passing', 'skill_ball_control', 'movement_acceleration', 'movement_sprint_speed', 'movement_agility', 'movement_reactions', 'movement_balance', 'power_shot_power', 'power_jumping', 'power_stamina', 'power_strength', 'power_long_shots', 'mentality_aggression', 'mentality_interceptions', 'mentality_positioning', 'mentality_vision', 'mentality_penalties', 'mentality_composure', 'defending_marking_awareness', 'defending_standing_tackle', 'defending_sliding_tackle', 'goalkeeping_diving', 'goalkeeping_handling', 'goalkeeping_kicking', 'goalkeeping_positioning', 'goalkeeping_reflexes', 'goalkeeping_speed', 'ls', 'st', 'rs', 'lw', 'lf', 'cf', 'rf', 'rw', 'lam', 'cam', 'ram', 'lm', 'lcm', 'cm', 'rcm', 'rm', 'lwb', 'ldm', 'cdm', 'rdm', 'rwb', 'lb', 'lcb', 'cb', 'rcb', 'rb', 'gk']\n"
          ]
        }
      ],
      "source": [
        "# Display all column names of male_players dataset\n",
        "print(\"All column names in male_players dataset:\")\n",
        "print(male_players.columns.tolist())\n"
      ]
    },
    {
      "cell_type": "code",
      "execution_count": null,
      "metadata": {
        "colab": {
          "base_uri": "https://localhost:8080/"
        },
        "id": "V2PcNu0Qt1w3",
        "outputId": "eb07a0ec-718d-482f-aa0d-996e1e5eae69"
      },
      "outputs": [
        {
          "output_type": "stream",
          "name": "stdout",
          "text": [
            "Filtered Data Preview:\n",
            "   overall  potential    value_eur  wage_eur  age  release_clause_eur  \\\n",
            "0       91         94  181500000.0  230000.0   24         349400000.0   \n",
            "1       91         94  185000000.0  340000.0   22         356100000.0   \n",
            "2       91         91  103000000.0  350000.0   32         190600000.0   \n",
            "3       90         90   41000000.0   23000.0   36          61500000.0   \n",
            "4       90         90   51000000.0   95000.0   35          81600000.0   \n",
            "\n",
            "  preferred_foot  weak_foot  international_reputation  skill_moves  attacking  \\\n",
            "0          Right          4                         5            5        415   \n",
            "1           Left          3                         5            3        393   \n",
            "2          Right          5                         5            4        412   \n",
            "3           Left          4                         5            4        409   \n",
            "4          Right          4                         5            4        433   \n",
            "\n",
            "   defending  movement  power  mentality  pace  shooting  passing  dribbling  \\\n",
            "0         92       462    426      450.0  97.0      90.0     80.0       92.0   \n",
            "1        114       418    442      471.0  89.0      93.0     66.0       80.0   \n",
            "2        189       388    418      495.0  72.0      88.0     94.0       87.0   \n",
            "3         79       435    382      438.0  80.0      87.0     90.0       94.0   \n",
            "4         85       398    417      459.0  79.0      88.0     83.0       87.0   \n",
            "\n",
            "   physic  \n",
            "0    78.0  \n",
            "1    88.0  \n",
            "2    78.0  \n",
            "3    64.0  \n",
            "4    78.0  \n"
          ]
        },
        {
          "output_type": "stream",
          "name": "stderr",
          "text": [
            "<ipython-input-5-2f9cf51d03cf>:55: SettingWithCopyWarning: \n",
            "A value is trying to be set on a copy of a slice from a DataFrame.\n",
            "Try using .loc[row_indexer,col_indexer] = value instead\n",
            "\n",
            "See the caveats in the documentation: https://pandas.pydata.org/pandas-docs/stable/user_guide/indexing.html#returning-a-view-versus-a-copy\n",
            "  filtered_data[numerical_cols] = filtered_data[numerical_cols].fillna(filtered_data[numerical_cols].median())\n",
            "<ipython-input-5-2f9cf51d03cf>:58: SettingWithCopyWarning: \n",
            "A value is trying to be set on a copy of a slice from a DataFrame.\n",
            "Try using .loc[row_indexer,col_indexer] = value instead\n",
            "\n",
            "See the caveats in the documentation: https://pandas.pydata.org/pandas-docs/stable/user_guide/indexing.html#returning-a-view-versus-a-copy\n",
            "  filtered_data[categorical_cols] = filtered_data[categorical_cols].fillna('Unknown')\n"
          ]
        },
        {
          "output_type": "stream",
          "name": "stdout",
          "text": [
            "Normalized Values Preview:\n",
            "   value_eur  wage_eur  release_clause_eur\n",
            "0   0.935567  0.399478            0.935474\n",
            "1   0.953608  0.590949            0.953413\n",
            "2   0.530925  0.608355            0.510296\n",
            "3   0.211336  0.039164            0.164639\n",
            "4   0.262883  0.164491            0.218455\n"
          ]
        }
      ],
      "source": [
        "# Create aggregated features\n",
        "male_players['attacking'] = (\n",
        "    male_players['attacking_crossing'] +\n",
        "    male_players['attacking_finishing'] +\n",
        "    male_players['attacking_heading_accuracy'] +\n",
        "    male_players['attacking_short_passing'] +\n",
        "    male_players['attacking_volleys']\n",
        ")\n",
        "\n",
        "male_players['defending'] = (\n",
        "    male_players['defending_marking_awareness'] +\n",
        "    male_players['defending_standing_tackle'] +\n",
        "    male_players['defending_sliding_tackle']\n",
        ")\n",
        "\n",
        "male_players['movement'] = (\n",
        "    male_players['movement_acceleration'] +\n",
        "    male_players['movement_sprint_speed'] +\n",
        "    male_players['movement_agility'] +\n",
        "    male_players['movement_reactions'] +\n",
        "    male_players['movement_balance']\n",
        ")\n",
        "\n",
        "male_players['power'] = (\n",
        "    male_players['power_shot_power'] +\n",
        "    male_players['power_jumping'] +\n",
        "    male_players['power_stamina'] +\n",
        "    male_players['power_strength'] +\n",
        "    male_players['power_long_shots']\n",
        ")\n",
        "\n",
        "male_players['mentality'] = (\n",
        "    male_players['mentality_aggression'] +\n",
        "    male_players['mentality_interceptions'] +\n",
        "    male_players['mentality_positioning'] +\n",
        "    male_players['mentality_vision'] +\n",
        "    male_players['mentality_penalties'] +\n",
        "    male_players['mentality_composure']\n",
        ")\n",
        "\n",
        "selected_features = [\n",
        "    'overall', 'potential', 'value_eur', 'wage_eur', 'age',\n",
        "    'release_clause_eur', 'preferred_foot', 'weak_foot',\n",
        "    'international_reputation', 'skill_moves', 'attacking',\n",
        "    'defending', 'movement', 'power', 'mentality', 'pace',\n",
        "    'shooting', 'passing', 'dribbling', 'physic'\n",
        "]\n",
        "\n",
        "# Filter the data for selected features\n",
        "filtered_data = male_players[selected_features]\n",
        "\n",
        "\n",
        "# Handle missing values for filtered data\n",
        "numerical_cols = filtered_data.select_dtypes(include=['float64', 'int64']).columns\n",
        "filtered_data[numerical_cols] = filtered_data[numerical_cols].fillna(filtered_data[numerical_cols].median())\n",
        "\n",
        "categorical_cols = filtered_data.select_dtypes(include=['object']).columns\n",
        "filtered_data[categorical_cols] = filtered_data[categorical_cols].fillna('Unknown')\n",
        "\n",
        "print(\"Filtered Data Preview:\")\n",
        "print(filtered_data.head())\n",
        "\n",
        "\n",
        "from sklearn.preprocessing import MinMaxScaler\n",
        "\n",
        "# Define features to normalize\n",
        "columns_to_normalize = ['value_eur', 'wage_eur', 'release_clause_eur']\n",
        "\n",
        "# Initialize MinMaxScaler\n",
        "scaler = MinMaxScaler()\n",
        "\n",
        "# Apply scaling to the specified columns\n",
        "male_players[columns_to_normalize] = scaler.fit_transform(male_players[columns_to_normalize])\n",
        "\n",
        "# Verify the scaling results\n",
        "print(\"Normalized Values Preview:\")\n",
        "print(male_players[columns_to_normalize].head())\n",
        "\n"
      ]
    },
    {
      "cell_type": "code",
      "execution_count": null,
      "metadata": {
        "colab": {
          "base_uri": "https://localhost:8080/"
        },
        "id": "sy5i-s2tvNtQ",
        "outputId": "9768944f-56ad-475a-91e2-7337d2ca33c6"
      },
      "outputs": [
        {
          "output_type": "stream",
          "name": "stdout",
          "text": [
            "Non-numeric columns in the dataset: ['preferred_foot']\n"
          ]
        }
      ],
      "source": [
        "# Identify non-numeric columns\n",
        "non_numeric_cols = filtered_data.select_dtypes(include=['object', 'category']).columns.tolist()\n",
        "print(\"Non-numeric columns in the dataset:\", non_numeric_cols)\n"
      ]
    },
    {
      "cell_type": "code",
      "execution_count": null,
      "metadata": {
        "colab": {
          "base_uri": "https://localhost:8080/"
        },
        "id": "XFA0mNKnvZH_",
        "outputId": "ae2ce070-115c-4c76-9a5d-666bf3fab02c"
      },
      "outputs": [
        {
          "output_type": "stream",
          "name": "stdout",
          "text": [
            "Dataset after one-hot encoding 'preferred_foot':\n",
            "   overall  potential    value_eur  wage_eur  age  release_clause_eur  \\\n",
            "0       91         94  181500000.0  230000.0   24         349400000.0   \n",
            "1       91         94  185000000.0  340000.0   22         356100000.0   \n",
            "2       91         91  103000000.0  350000.0   32         190600000.0   \n",
            "3       90         90   41000000.0   23000.0   36          61500000.0   \n",
            "4       90         90   51000000.0   95000.0   35          81600000.0   \n",
            "\n",
            "   weak_foot  international_reputation  skill_moves  attacking  defending  \\\n",
            "0          4                         5            5        415         92   \n",
            "1          3                         5            3        393        114   \n",
            "2          5                         5            4        412        189   \n",
            "3          4                         5            4        409         79   \n",
            "4          4                         5            4        433         85   \n",
            "\n",
            "   movement  power  mentality  pace  shooting  passing  dribbling  physic  \\\n",
            "0       462    426      450.0  97.0      90.0     80.0       92.0    78.0   \n",
            "1       418    442      471.0  89.0      93.0     66.0       80.0    88.0   \n",
            "2       388    418      495.0  72.0      88.0     94.0       87.0    78.0   \n",
            "3       435    382      438.0  80.0      87.0     90.0       94.0    64.0   \n",
            "4       398    417      459.0  79.0      88.0     83.0       87.0    78.0   \n",
            "\n",
            "   preferred_foot_Right  \n",
            "0                   1.0  \n",
            "1                   0.0  \n",
            "2                   1.0  \n",
            "3                   0.0  \n",
            "4                   1.0  \n"
          ]
        }
      ],
      "source": [
        "from sklearn.preprocessing import OneHotEncoder\n",
        "\n",
        "# One-hot encode 'preferred_foot'\n",
        "one_hot_encoder = OneHotEncoder(drop='first', sparse_output=False)\n",
        "encoded_cols = one_hot_encoder.fit_transform(filtered_data[['preferred_foot']])\n",
        "encoded_df = pd.DataFrame(encoded_cols, columns=one_hot_encoder.get_feature_names_out(['preferred_foot']))\n",
        "\n",
        "# Drop the original 'preferred_foot' column and concatenate the encoded columns\n",
        "filtered_data = pd.concat([filtered_data.drop(columns=['preferred_foot']), encoded_df], axis=1)\n",
        "\n",
        "print(\"Dataset after one-hot encoding 'preferred_foot':\")\n",
        "print(filtered_data.head())\n",
        "\n"
      ]
    },
    {
      "cell_type": "code",
      "execution_count": null,
      "metadata": {
        "colab": {
          "base_uri": "https://localhost:8080/"
        },
        "id": "92eoCvk1vcss",
        "outputId": "b3899c1b-4ad7-4a44-950e-3367e370c04d"
      },
      "outputs": [
        {
          "output_type": "stream",
          "name": "stdout",
          "text": [
            "All columns are numeric. Dataset is ready for modeling!\n"
          ]
        }
      ],
      "source": [
        "# Check if all columns are numeric\n",
        "if filtered_data.select_dtypes(include=['object', 'category']).empty:\n",
        "    print(\"All columns are numeric. Dataset is ready for modeling!\")\n",
        "else:\n",
        "    print(\"Some columns are still non-numeric. Recheck the encoding steps.\")\n"
      ]
    },
    {
      "cell_type": "markdown",
      "metadata": {
        "id": "RE24Qi0FwG-l"
      },
      "source": [
        "**Baseline Models**"
      ]
    },
    {
      "cell_type": "code",
      "source": [
        "import pandas as pd\n",
        "import numpy as np\n",
        "from sklearn.model_selection import train_test_split\n",
        "from sklearn.ensemble import RandomForestRegressor\n",
        "from sklearn.linear_model import LinearRegression\n",
        "from sklearn.metrics import mean_absolute_error, mean_squared_error, r2_score\n",
        "\n",
        "# Sampling data to run faster executions\n",
        "data_sample = filtered_data.sample(frac=1, random_state=42)\n",
        "X = data_sample.drop(['value_eur'], axis=1)\n",
        "y = data_sample['value_eur']\n",
        "\n",
        "# Train-test split\n",
        "X_train, X_test, y_train, y_test = train_test_split(X, y, test_size=0.2, random_state=42)\n",
        "\n",
        "# Define models with reduced complexity\n",
        "models = {\n",
        "    \"Linear Regression\": LinearRegression(),\n",
        "    \"Random Forest\": RandomForestRegressor(n_estimators=50, n_jobs=-1, random_state=42)  # Reduced trees\n",
        "}\n",
        "\n",
        "# Store results\n",
        "results = {}\n",
        "\n",
        "for name, model in models.items():\n",
        "    print(f\"Training {name}...\")\n",
        "    model.fit(X_train, y_train)\n",
        "\n",
        "    # Predictions\n",
        "    y_pred = model.predict(X_test)\n",
        "\n",
        "    # Evaluation metrics\n",
        "    mae = mean_absolute_error(y_test, y_pred)\n",
        "    rmse = np.sqrt(mean_squared_error(y_test, y_pred))\n",
        "    r2 = r2_score(y_test, y_pred)\n",
        "\n",
        "    # Store results\n",
        "    results[name] = {\"MAE\": mae, \"RMSE\": rmse, \"R²\": r2}\n",
        "\n",
        "# Display results\n",
        "print(\"\\nModel Performance:\")\n",
        "for name, metrics in results.items():\n",
        "    print(f\"{name}: MAE={metrics['MAE']:.2f}, RMSE={metrics['RMSE']:.2f}, R²={metrics['R²']:.2f}\")\n",
        "\n",
        "# Feature importance for Random Forest\n",
        "rf_model = models[\"Random Forest\"]\n",
        "feature_importances = pd.DataFrame({\n",
        "    'Feature': X.columns,\n",
        "    'Importance': rf_model.feature_importances_\n",
        "}).sort_values(by='Importance', ascending=False)\n",
        "\n"
      ],
      "metadata": {
        "id": "FZRW6RiXLdga",
        "colab": {
          "base_uri": "https://localhost:8080/"
        },
        "outputId": "40abd8ce-6805-406e-f363-9f9fc9607ab4"
      },
      "execution_count": null,
      "outputs": [
        {
          "output_type": "stream",
          "name": "stdout",
          "text": [
            "Training Linear Regression...\n",
            "Training Random Forest...\n",
            "\n",
            "Model Performance:\n",
            "Linear Regression: MAE=766832.78, RMSE=2010960.07, R²=0.90\n",
            "Random Forest: MAE=285259.50, RMSE=1234500.40, R²=0.96\n"
          ]
        }
      ]
    },
    {
      "cell_type": "markdown",
      "metadata": {
        "id": "9y47PfjmwOy_"
      },
      "source": [
        "**Gradient Boosting Decision Trees (GBDT)**"
      ]
    },
    {
      "cell_type": "code",
      "execution_count": null,
      "metadata": {
        "colab": {
          "base_uri": "https://localhost:8080/"
        },
        "id": "DyZCMYbAwNSD",
        "outputId": "7eeaed00-4036-45c2-fcef-c6fa695f3353"
      },
      "outputs": [
        {
          "output_type": "stream",
          "name": "stdout",
          "text": [
            "Gradient Boosting Decision Trees Model Performance:\n",
            "MAE: 367556.64, RMSE: 1211682.95, R²: 0.96\n"
          ]
        }
      ],
      "source": [
        "from sklearn.ensemble import GradientBoostingRegressor\n",
        "\n",
        "# Train a GBDT model\n",
        "gbdt_model = GradientBoostingRegressor(random_state=42)\n",
        "gbdt_model.fit(X_train, y_train)\n",
        "\n",
        "# Predict on the test set\n",
        "y_pred_gbdt = gbdt_model.predict(X_test)\n",
        "\n",
        "# Evaluate the model\n",
        "mae_gbdt = mean_absolute_error(y_test, y_pred_gbdt)\n",
        "rmse_gbdt = np.sqrt(mean_squared_error(y_test, y_pred_gbdt))\n",
        "r2_gbdt = r2_score(y_test, y_pred_gbdt)\n",
        "\n",
        "print(f\"Gradient Boosting Decision Trees Model Performance:\\nMAE: {mae_gbdt:.2f}, RMSE: {rmse_gbdt:.2f}, R²: {r2_gbdt:.2f}\")\n",
        "\n"
      ]
    },
    {
      "cell_type": "markdown",
      "metadata": {
        "id": "C2R-8St9wni6"
      },
      "source": [
        "**LightGBM with Default Parameters**"
      ]
    },
    {
      "cell_type": "code",
      "execution_count": null,
      "metadata": {
        "colab": {
          "base_uri": "https://localhost:8080/"
        },
        "id": "OcBVmnq-xAmg",
        "outputId": "6de837ba-d9d3-4adc-9f13-4efd8d625bd3"
      },
      "outputs": [
        {
          "output_type": "stream",
          "name": "stderr",
          "text": [
            "/usr/local/lib/python3.10/dist-packages/dask/dataframe/__init__.py:42: FutureWarning: \n",
            "Dask dataframe query planning is disabled because dask-expr is not installed.\n",
            "\n",
            "You can install it with `pip install dask[dataframe]` or `conda install dask`.\n",
            "This will raise in a future version.\n",
            "\n",
            "  warnings.warn(msg, FutureWarning)\n"
          ]
        },
        {
          "output_type": "stream",
          "name": "stdout",
          "text": [
            "LightGBM version: 4.5.0\n"
          ]
        }
      ],
      "source": [
        "import lightgbm\n",
        "print(f\"LightGBM version: {lightgbm.__version__}\")\n"
      ]
    },
    {
      "cell_type": "code",
      "execution_count": null,
      "metadata": {
        "colab": {
          "base_uri": "https://localhost:8080/"
        },
        "id": "QkJoQ3lzxCof",
        "outputId": "491f2f13-67a1-4ff9-b928-08ba2372925e"
      },
      "outputs": [
        {
          "output_type": "stream",
          "name": "stdout",
          "text": [
            "Requirement already satisfied: lightgbm in /usr/local/lib/python3.10/dist-packages (4.5.0)\n",
            "Requirement already satisfied: numpy>=1.17.0 in /usr/local/lib/python3.10/dist-packages (from lightgbm) (1.26.4)\n",
            "Requirement already satisfied: scipy in /usr/local/lib/python3.10/dist-packages (from lightgbm) (1.13.1)\n"
          ]
        }
      ],
      "source": [
        "pip install --upgrade lightgbm\n"
      ]
    },
    {
      "cell_type": "code",
      "execution_count": null,
      "metadata": {
        "colab": {
          "base_uri": "https://localhost:8080/"
        },
        "id": "-DoQv95Ewp3Z",
        "outputId": "1559d8b2-2406-413c-dd23-0b7051074292"
      },
      "outputs": [
        {
          "output_type": "stream",
          "name": "stdout",
          "text": [
            "Training until validation scores don't improve for 10 rounds\n",
            "Did not meet early stopping. Best iteration is:\n",
            "[100]\ttraining's rmse: 818203\tvalid_1's rmse: 1.17977e+06\n",
            "LightGBM Model Performance:\n",
            "MAE: 328004.94, RMSE: 1179765.31, R²: 0.97\n"
          ]
        }
      ],
      "source": [
        "import lightgbm as lgb\n",
        "\n",
        "\n",
        "# Create LightGBM datasets\n",
        "lgb_train = lgb.Dataset(X_train, label=y_train)\n",
        "lgb_test = lgb.Dataset(X_test, label=y_test, reference=lgb_train)\n",
        "\n",
        "# Define model parameters\n",
        "params = {\n",
        "    'objective': 'regression',\n",
        "    'metric': 'rmse',\n",
        "    'boosting_type': 'gbdt',\n",
        "    'verbosity': -1\n",
        "}\n",
        "\n",
        "# Use callbacks for early stopping\n",
        "callbacks = [\n",
        "    lgb.early_stopping(stopping_rounds=10, verbose=True)\n",
        "]\n",
        "\n",
        "# Train LightGBM model\n",
        "lgb_model = lgb.train(\n",
        "    params,\n",
        "    lgb_train,\n",
        "    valid_sets=[lgb_train, lgb_test],\n",
        "    callbacks=callbacks\n",
        ")\n",
        "\n",
        "# Predict on the test set\n",
        "y_pred_lgb = lgb_model.predict(X_test)\n",
        "\n",
        "# Evaluate the model\n",
        "mae_lgb = mean_absolute_error(y_test, y_pred_lgb)\n",
        "rmse_lgb = np.sqrt(mean_squared_error(y_test, y_pred_lgb))\n",
        "r2_lgb = r2_score(y_test, y_pred_lgb)\n",
        "\n",
        "print(f\"LightGBM Model Performance:\\nMAE: {mae_lgb:.2f}, RMSE: {rmse_lgb:.2f}, R²: {r2_lgb:.2f}\")\n",
        "\n",
        "\n"
      ]
    },
    {
      "cell_type": "markdown",
      "metadata": {
        "id": "ySDHND9MxMd7"
      },
      "source": [
        "**Optimized LightGBM with Bayesian Optimization**"
      ]
    },
    {
      "cell_type": "code",
      "execution_count": null,
      "metadata": {
        "colab": {
          "base_uri": "https://localhost:8080/"
        },
        "id": "wrA5sZAjxQDa",
        "outputId": "606bfad6-2d59-476d-e646-0c252438867c"
      },
      "outputs": [
        {
          "output_type": "stream",
          "name": "stdout",
          "text": [
            "Collecting optuna\n",
            "  Downloading optuna-4.1.0-py3-none-any.whl.metadata (16 kB)\n",
            "Collecting alembic>=1.5.0 (from optuna)\n",
            "  Downloading alembic-1.14.0-py3-none-any.whl.metadata (7.4 kB)\n",
            "Collecting colorlog (from optuna)\n",
            "  Downloading colorlog-6.9.0-py3-none-any.whl.metadata (10 kB)\n",
            "Requirement already satisfied: numpy in /usr/local/lib/python3.10/dist-packages (from optuna) (1.26.4)\n",
            "Requirement already satisfied: packaging>=20.0 in /usr/local/lib/python3.10/dist-packages (from optuna) (24.2)\n",
            "Requirement already satisfied: sqlalchemy>=1.4.2 in /usr/local/lib/python3.10/dist-packages (from optuna) (2.0.36)\n",
            "Requirement already satisfied: tqdm in /usr/local/lib/python3.10/dist-packages (from optuna) (4.67.1)\n",
            "Requirement already satisfied: PyYAML in /usr/local/lib/python3.10/dist-packages (from optuna) (6.0.2)\n",
            "Collecting Mako (from alembic>=1.5.0->optuna)\n",
            "  Downloading Mako-1.3.8-py3-none-any.whl.metadata (2.9 kB)\n",
            "Requirement already satisfied: typing-extensions>=4 in /usr/local/lib/python3.10/dist-packages (from alembic>=1.5.0->optuna) (4.12.2)\n",
            "Requirement already satisfied: greenlet!=0.4.17 in /usr/local/lib/python3.10/dist-packages (from sqlalchemy>=1.4.2->optuna) (3.1.1)\n",
            "Requirement already satisfied: MarkupSafe>=0.9.2 in /usr/local/lib/python3.10/dist-packages (from Mako->alembic>=1.5.0->optuna) (3.0.2)\n",
            "Downloading optuna-4.1.0-py3-none-any.whl (364 kB)\n",
            "\u001b[2K   \u001b[90m━━━━━━━━━━━━━━━━━━━━━━━━━━━━━━━━━━━━━━━━\u001b[0m \u001b[32m364.4/364.4 kB\u001b[0m \u001b[31m7.2 MB/s\u001b[0m eta \u001b[36m0:00:00\u001b[0m\n",
            "\u001b[?25hDownloading alembic-1.14.0-py3-none-any.whl (233 kB)\n",
            "\u001b[2K   \u001b[90m━━━━━━━━━━━━━━━━━━━━━━━━━━━━━━━━━━━━━━━━\u001b[0m \u001b[32m233.5/233.5 kB\u001b[0m \u001b[31m20.4 MB/s\u001b[0m eta \u001b[36m0:00:00\u001b[0m\n",
            "\u001b[?25hDownloading colorlog-6.9.0-py3-none-any.whl (11 kB)\n",
            "Downloading Mako-1.3.8-py3-none-any.whl (78 kB)\n",
            "\u001b[2K   \u001b[90m━━━━━━━━━━━━━━━━━━━━━━━━━━━━━━━━━━━━━━━━\u001b[0m \u001b[32m78.6/78.6 kB\u001b[0m \u001b[31m6.8 MB/s\u001b[0m eta \u001b[36m0:00:00\u001b[0m\n",
            "\u001b[?25hInstalling collected packages: Mako, colorlog, alembic, optuna\n",
            "Successfully installed Mako-1.3.8 alembic-1.14.0 colorlog-6.9.0 optuna-4.1.0\n"
          ]
        }
      ],
      "source": [
        "pip install optuna\n"
      ]
    },
    {
      "cell_type": "code",
      "execution_count": null,
      "metadata": {
        "colab": {
          "base_uri": "https://localhost:8080/"
        },
        "id": "gtD0FoJxxNPs",
        "outputId": "15bd2e91-f51a-4d02-b865-449e7f8def30"
      },
      "outputs": [
        {
          "output_type": "stream",
          "name": "stderr",
          "text": [
            "[I 2025-01-10 17:36:32,329] A new study created in memory with name: no-name-202f0f5c-c9b3-4533-8f62-cb70af2ad8cf\n",
            "[I 2025-01-10 17:36:34,817] Trial 0 finished with value: 1538820517310.3948 and parameters: {'learning_rate': 0.03619715175470692, 'num_leaves': 54, 'min_data_in_leaf': 31, 'feature_fraction': 0.827437435658301, 'bagging_fraction': 0.7793030874293114, 'bagging_freq': 5, 'lambda_l1': 0.000493672681189699, 'lambda_l2': 1.4637821073132835e-05}. Best is trial 0 with value: 1538820517310.3948.\n",
            "[I 2025-01-10 17:36:35,906] Trial 1 finished with value: 5423078580506.707 and parameters: {'learning_rate': 0.01247948500481676, 'num_leaves': 130, 'min_data_in_leaf': 39, 'feature_fraction': 0.8700298419110413, 'bagging_fraction': 0.5203546703703024, 'bagging_freq': 7, 'lambda_l1': 4.406364753105652e-06, 'lambda_l2': 0.0013816337043295113}. Best is trial 0 with value: 1538820517310.3948.\n",
            "[I 2025-01-10 17:36:37,042] Trial 2 finished with value: 1700295653569.3928 and parameters: {'learning_rate': 0.03208163917898961, 'num_leaves': 95, 'min_data_in_leaf': 47, 'feature_fraction': 0.6089209885211855, 'bagging_fraction': 0.9090781465525923, 'bagging_freq': 5, 'lambda_l1': 7.304967525167344e-08, 'lambda_l2': 2.600620912291371e-06}. Best is trial 0 with value: 1538820517310.3948.\n",
            "[I 2025-01-10 17:36:37,732] Trial 3 finished with value: 1555820481918.4175 and parameters: {'learning_rate': 0.03686866327714269, 'num_leaves': 26, 'min_data_in_leaf': 26, 'feature_fraction': 0.6454097913265017, 'bagging_fraction': 0.7938679387151283, 'bagging_freq': 4, 'lambda_l1': 8.447792855653387e-08, 'lambda_l2': 0.005724960799071973}. Best is trial 0 with value: 1538820517310.3948.\n",
            "[I 2025-01-10 17:36:38,939] Trial 4 finished with value: 1399745544654.9192 and parameters: {'learning_rate': 0.07710317601784795, 'num_leaves': 138, 'min_data_in_leaf': 41, 'feature_fraction': 0.9458771629165149, 'bagging_fraction': 0.9817052555766246, 'bagging_freq': 7, 'lambda_l1': 3.5386903893481074e-08, 'lambda_l2': 5.54866641204991}. Best is trial 4 with value: 1399745544654.9192.\n",
            "[I 2025-01-10 17:36:42,049] Trial 5 finished with value: 3757812965233.195 and parameters: {'learning_rate': 0.015832221528425935, 'num_leaves': 148, 'min_data_in_leaf': 45, 'feature_fraction': 0.7331063859231641, 'bagging_fraction': 0.5750639087257132, 'bagging_freq': 6, 'lambda_l1': 0.00426183309835036, 'lambda_l2': 2.745114606197909e-05}. Best is trial 4 with value: 1399745544654.9192.\n",
            "[I 2025-01-10 17:36:43,773] Trial 6 finished with value: 2769939404728.3784 and parameters: {'learning_rate': 0.018436859292485935, 'num_leaves': 145, 'min_data_in_leaf': 22, 'feature_fraction': 0.6726812933100212, 'bagging_fraction': 0.5989259013091408, 'bagging_freq': 5, 'lambda_l1': 1.4872263559627957e-05, 'lambda_l2': 0.0047126149746834125}. Best is trial 4 with value: 1399745544654.9192.\n",
            "[I 2025-01-10 17:36:44,876] Trial 7 finished with value: 1459471133018.6248 and parameters: {'learning_rate': 0.0724590271391306, 'num_leaves': 113, 'min_data_in_leaf': 41, 'feature_fraction': 0.8526908806430046, 'bagging_fraction': 0.7587972623070149, 'bagging_freq': 5, 'lambda_l1': 0.8713262913154113, 'lambda_l2': 0.0005946025322615953}. Best is trial 4 with value: 1399745544654.9192.\n",
            "[I 2025-01-10 17:36:45,661] Trial 8 finished with value: 3135895304464.6343 and parameters: {'learning_rate': 0.017915106449494848, 'num_leaves': 28, 'min_data_in_leaf': 43, 'feature_fraction': 0.7940187422627059, 'bagging_fraction': 0.9528724548645987, 'bagging_freq': 7, 'lambda_l1': 0.007865081862500949, 'lambda_l2': 9.04579834884717e-07}. Best is trial 4 with value: 1399745544654.9192.\n",
            "[I 2025-01-10 17:36:46,734] Trial 9 finished with value: 1529889310896.346 and parameters: {'learning_rate': 0.038709564498610814, 'num_leaves': 92, 'min_data_in_leaf': 33, 'feature_fraction': 0.9846864410523091, 'bagging_fraction': 0.7579770173036713, 'bagging_freq': 3, 'lambda_l1': 4.618158546363736e-08, 'lambda_l2': 7.566531999988143e-05}. Best is trial 4 with value: 1399745544654.9192.\n",
            "[I 2025-01-10 17:36:47,554] Trial 10 finished with value: 1406919389822.3833 and parameters: {'learning_rate': 0.08221607920359962, 'num_leaves': 62, 'min_data_in_leaf': 13, 'feature_fraction': 0.9953959656018038, 'bagging_fraction': 0.9856732066701525, 'bagging_freq': 1, 'lambda_l1': 3.8852965392617103, 'lambda_l2': 9.61543446523142}. Best is trial 4 with value: 1399745544654.9192.\n",
            "[I 2025-01-10 17:36:48,282] Trial 11 finished with value: 1372364329776.6726 and parameters: {'learning_rate': 0.09623313064283316, 'num_leaves': 63, 'min_data_in_leaf': 13, 'feature_fraction': 0.996742121439887, 'bagging_fraction': 0.8878543872734808, 'bagging_freq': 1, 'lambda_l1': 6.500678951428451, 'lambda_l2': 6.6211935370506305}. Best is trial 11 with value: 1372364329776.6726.\n",
            "[I 2025-01-10 17:36:48,964] Trial 12 finished with value: 1361586373613.0786 and parameters: {'learning_rate': 0.09828204734990788, 'num_leaves': 66, 'min_data_in_leaf': 10, 'feature_fraction': 0.9260371864818201, 'bagging_fraction': 0.8721823452141876, 'bagging_freq': 1, 'lambda_l1': 0.1501626766903208, 'lambda_l2': 4.921235934984896}. Best is trial 12 with value: 1361586373613.0786.\n",
            "[I 2025-01-10 17:36:49,759] Trial 13 finished with value: 1377229377478.0645 and parameters: {'learning_rate': 0.057846572171839424, 'num_leaves': 64, 'min_data_in_leaf': 10, 'feature_fraction': 0.9105168273899116, 'bagging_fraction': 0.870422737791682, 'bagging_freq': 1, 'lambda_l1': 0.1972281120032757, 'lambda_l2': 0.3169235072132178}. Best is trial 12 with value: 1361586373613.0786.\n",
            "[I 2025-01-10 17:36:50,579] Trial 14 finished with value: 1462591190161.6375 and parameters: {'learning_rate': 0.05569095356590135, 'num_leaves': 46, 'min_data_in_leaf': 17, 'feature_fraction': 0.5019334686536028, 'bagging_fraction': 0.8562576578407872, 'bagging_freq': 2, 'lambda_l1': 0.07511701187924737, 'lambda_l2': 0.20332814937660157}. Best is trial 12 with value: 1361586373613.0786.\n",
            "[I 2025-01-10 17:36:51,457] Trial 15 finished with value: 1348035146600.5134 and parameters: {'learning_rate': 0.09748920886288462, 'num_leaves': 76, 'min_data_in_leaf': 18, 'feature_fraction': 0.9175931397881862, 'bagging_fraction': 0.697215523506314, 'bagging_freq': 2, 'lambda_l1': 2.9461018359123385, 'lambda_l2': 4.308866745233061e-08}. Best is trial 15 with value: 1348035146600.5134.\n",
            "[I 2025-01-10 17:36:52,377] Trial 16 finished with value: 1389323279916.9995 and parameters: {'learning_rate': 0.05267381676697757, 'num_leaves': 78, 'min_data_in_leaf': 19, 'feature_fraction': 0.9054493382621999, 'bagging_fraction': 0.6592169316199465, 'bagging_freq': 2, 'lambda_l1': 0.03332461982422019, 'lambda_l2': 1.057798051183904e-08}. Best is trial 15 with value: 1348035146600.5134.\n",
            "[I 2025-01-10 17:36:53,377] Trial 17 finished with value: 2114856722936.241 and parameters: {'learning_rate': 0.022743367239400514, 'num_leaves': 80, 'min_data_in_leaf': 25, 'feature_fraction': 0.7571133325216302, 'bagging_fraction': 0.683480715141787, 'bagging_freq': 2, 'lambda_l1': 0.9255895572296996, 'lambda_l2': 3.489507035640522e-08}. Best is trial 15 with value: 1348035146600.5134.\n",
            "[I 2025-01-10 17:36:56,491] Trial 18 finished with value: 1336645579274.6174 and parameters: {'learning_rate': 0.09644422647940987, 'num_leaves': 112, 'min_data_in_leaf': 17, 'feature_fraction': 0.9251096974460008, 'bagging_fraction': 0.6733305696592622, 'bagging_freq': 3, 'lambda_l1': 0.0007638890700014802, 'lambda_l2': 2.462451660366223e-07}. Best is trial 18 with value: 1336645579274.6174.\n",
            "[I 2025-01-10 17:36:58,077] Trial 19 finished with value: 1398241441729.1355 and parameters: {'learning_rate': 0.04809146571197967, 'num_leaves': 112, 'min_data_in_leaf': 20, 'feature_fraction': 0.8118397205908223, 'bagging_fraction': 0.6653967270225862, 'bagging_freq': 3, 'lambda_l1': 3.384794669657816e-05, 'lambda_l2': 1.756899096846841e-07}. Best is trial 18 with value: 1336645579274.6174.\n",
            "[I 2025-01-10 17:36:59,195] Trial 20 finished with value: 1835939068920.163 and parameters: {'learning_rate': 0.025695357758801777, 'num_leaves': 115, 'min_data_in_leaf': 27, 'feature_fraction': 0.8855844565841877, 'bagging_fraction': 0.6959985919809452, 'bagging_freq': 3, 'lambda_l1': 1.1045443506243797e-06, 'lambda_l2': 3.247436927407646e-07}. Best is trial 18 with value: 1336645579274.6174.\n",
            "[I 2025-01-10 17:37:00,179] Trial 21 finished with value: 1392083828414.5193 and parameters: {'learning_rate': 0.09645106055981856, 'num_leaves': 101, 'min_data_in_leaf': 15, 'feature_fraction': 0.9481663298156098, 'bagging_fraction': 0.8313928764837962, 'bagging_freq': 2, 'lambda_l1': 0.00047306408082552974, 'lambda_l2': 6.608307166054986e-08}. Best is trial 18 with value: 1336645579274.6174.\n",
            "[I 2025-01-10 17:37:01,098] Trial 22 finished with value: 1387783079808.1104 and parameters: {'learning_rate': 0.0653731147414378, 'num_leaves': 79, 'min_data_in_leaf': 10, 'feature_fraction': 0.935921740166681, 'bagging_fraction': 0.7155728757607402, 'bagging_freq': 3, 'lambda_l1': 0.0026884345442438075, 'lambda_l2': 2.5923445647177897e-06}. Best is trial 18 with value: 1336645579274.6174.\n",
            "[I 2025-01-10 17:37:01,722] Trial 23 finished with value: 1401695551729.591 and parameters: {'learning_rate': 0.09136147209071399, 'num_leaves': 38, 'min_data_in_leaf': 16, 'feature_fraction': 0.8627625298491564, 'bagging_fraction': 0.6212993992856426, 'bagging_freq': 1, 'lambda_l1': 0.6598084653746941, 'lambda_l2': 0.05114018469759804}. Best is trial 18 with value: 1336645579274.6174.\n",
            "[I 2025-01-10 17:37:02,695] Trial 24 finished with value: 1373617111145.955 and parameters: {'learning_rate': 0.0674201597186119, 'num_leaves': 75, 'min_data_in_leaf': 23, 'feature_fraction': 0.9464823179742123, 'bagging_fraction': 0.7274149684845513, 'bagging_freq': 4, 'lambda_l1': 0.023307776550362428, 'lambda_l2': 2.211067265136662e-08}. Best is trial 18 with value: 1336645579274.6174.\n",
            "[I 2025-01-10 17:37:03,506] Trial 25 finished with value: 1380087174468.5842 and parameters: {'learning_rate': 0.08218683535864774, 'num_leaves': 103, 'min_data_in_leaf': 13, 'feature_fraction': 0.7667198731234128, 'bagging_fraction': 0.6352978712418501, 'bagging_freq': 2, 'lambda_l1': 9.427479620081236, 'lambda_l2': 5.583817225821668e-06}. Best is trial 18 with value: 1336645579274.6174.\n",
            "[I 2025-01-10 17:37:04,602] Trial 26 finished with value: 1407280336206.262 and parameters: {'learning_rate': 0.04654216417127109, 'num_leaves': 124, 'min_data_in_leaf': 18, 'feature_fraction': 0.7187052517725827, 'bagging_fraction': 0.813101789853113, 'bagging_freq': 4, 'lambda_l1': 0.20531598056841457, 'lambda_l2': 0.00010842127686540102}. Best is trial 18 with value: 1336645579274.6174.\n",
            "[I 2025-01-10 17:37:05,479] Trial 27 finished with value: 1440076389731.8132 and parameters: {'learning_rate': 0.09819125196626577, 'num_leaves': 89, 'min_data_in_leaf': 35, 'feature_fraction': 0.9104866068660807, 'bagging_fraction': 0.5694013283466939, 'bagging_freq': 1, 'lambda_l1': 0.0002070462511676571, 'lambda_l2': 3.4605980536647897e-07}. Best is trial 18 with value: 1336645579274.6174.\n",
            "[I 2025-01-10 17:37:06,497] Trial 28 finished with value: 1379656823311.885 and parameters: {'learning_rate': 0.0623185345422388, 'num_leaves': 70, 'min_data_in_leaf': 21, 'feature_fraction': 0.8355635213386514, 'bagging_fraction': 0.9158096098091012, 'bagging_freq': 2, 'lambda_l1': 0.001418362876013591, 'lambda_l2': 0.9235173636520351}. Best is trial 18 with value: 1336645579274.6174.\n",
            "[I 2025-01-10 17:37:07,357] Trial 29 finished with value: 1465641825445.7432 and parameters: {'learning_rate': 0.04251560543346607, 'num_leaves': 52, 'min_data_in_leaf': 30, 'feature_fraction': 0.8156562453328746, 'bagging_fraction': 0.7835335415828648, 'bagging_freq': 3, 'lambda_l1': 8.661731918925004e-05, 'lambda_l2': 1.5173336525711059e-05}. Best is trial 18 with value: 1336645579274.6174.\n",
            "[I 2025-01-10 17:37:08,128] Trial 30 finished with value: 1410169306593.4321 and parameters: {'learning_rate': 0.08162155460229295, 'num_leaves': 44, 'min_data_in_leaf': 10, 'feature_fraction': 0.967595214391314, 'bagging_fraction': 0.7138670259707897, 'bagging_freq': 4, 'lambda_l1': 0.012577475288563721, 'lambda_l2': 0.022546067380043812}. Best is trial 18 with value: 1336645579274.6174.\n",
            "[I 2025-01-10 17:37:10,363] Trial 31 finished with value: 1355755661883.5872 and parameters: {'learning_rate': 0.09396521305200846, 'num_leaves': 61, 'min_data_in_leaf': 13, 'feature_fraction': 0.9990573878706106, 'bagging_fraction': 0.8916930294817922, 'bagging_freq': 1, 'lambda_l1': 4.2754922003959, 'lambda_l2': 3.512533963706589}. Best is trial 18 with value: 1336645579274.6174.\n",
            "[I 2025-01-10 17:37:12,012] Trial 32 finished with value: 1377509192498.5837 and parameters: {'learning_rate': 0.07195750280693912, 'num_leaves': 55, 'min_data_in_leaf': 14, 'feature_fraction': 0.8864224440748412, 'bagging_fraction': 0.8477383981182962, 'bagging_freq': 1, 'lambda_l1': 1.4473471384552115, 'lambda_l2': 1.3270769814319243}. Best is trial 18 with value: 1336645579274.6174.\n",
            "[I 2025-01-10 17:37:12,858] Trial 33 finished with value: 1406572534894.1216 and parameters: {'learning_rate': 0.0859057950506595, 'num_leaves': 86, 'min_data_in_leaf': 17, 'feature_fraction': 0.9249833514164215, 'bagging_fraction': 0.5029390808460428, 'bagging_freq': 2, 'lambda_l1': 0.19114610490623687, 'lambda_l2': 9.543229642316095e-08}. Best is trial 18 with value: 1336645579274.6174.\n",
            "[I 2025-01-10 17:37:13,800] Trial 34 finished with value: 6774738350929.116 and parameters: {'learning_rate': 0.010832445737190714, 'num_leaves': 69, 'min_data_in_leaf': 12, 'feature_fraction': 0.9688510443340906, 'bagging_fraction': 0.9375585331185011, 'bagging_freq': 1, 'lambda_l1': 2.2728886759777773, 'lambda_l2': 1.9262555275884383}. Best is trial 18 with value: 1336645579274.6174.\n",
            "[I 2025-01-10 17:37:14,459] Trial 35 finished with value: 1387105381861.9146 and parameters: {'learning_rate': 0.09844918613186937, 'num_leaves': 55, 'min_data_in_leaf': 24, 'feature_fraction': 0.9636750477704004, 'bagging_fraction': 0.8131135006724257, 'bagging_freq': 2, 'lambda_l1': 7.744215197806593e-07, 'lambda_l2': 0.07415499126698129}. Best is trial 18 with value: 1336645579274.6174.\n",
            "[I 2025-01-10 17:37:15,445] Trial 36 finished with value: 1581665747138.5938 and parameters: {'learning_rate': 0.030289229732590135, 'num_leaves': 99, 'min_data_in_leaf': 16, 'feature_fraction': 0.8830074751009772, 'bagging_fraction': 0.8845913002716401, 'bagging_freq': 1, 'lambda_l1': 0.3531186366784865, 'lambda_l2': 0.00212032795067287}. Best is trial 18 with value: 1336645579274.6174.\n",
            "[I 2025-01-10 17:37:16,510] Trial 37 finished with value: 1388936443501.915 and parameters: {'learning_rate': 0.07124403249459609, 'num_leaves': 124, 'min_data_in_leaf': 19, 'feature_fraction': 0.5429048992405009, 'bagging_fraction': 0.746411110356788, 'bagging_freq': 3, 'lambda_l1': 2.4549090283613495, 'lambda_l2': 1.3093052381410073e-06}. Best is trial 18 with value: 1336645579274.6174.\n",
            "[I 2025-01-10 17:37:17,640] Trial 38 finished with value: 1418336290097.9019 and parameters: {'learning_rate': 0.07695405950208531, 'num_leaves': 70, 'min_data_in_leaf': 50, 'feature_fraction': 0.8499854525738438, 'bagging_fraction': 0.9237558310716115, 'bagging_freq': 2, 'lambda_l1': 0.07560523465515509, 'lambda_l2': 0.0003560415375959722}. Best is trial 18 with value: 1336645579274.6174.\n",
            "[I 2025-01-10 17:37:18,343] Trial 39 finished with value: 1373535521378.335 and parameters: {'learning_rate': 0.060955567983667164, 'num_leaves': 35, 'min_data_in_leaf': 27, 'feature_fraction': 0.9250978658646842, 'bagging_fraction': 0.9564684520799148, 'bagging_freq': 1, 'lambda_l1': 0.0017665635660460187, 'lambda_l2': 0.014974330258251775}. Best is trial 18 with value: 1336645579274.6174.\n",
            "[I 2025-01-10 17:37:19,173] Trial 40 finished with value: 1422967068721.3792 and parameters: {'learning_rate': 0.08486473285511528, 'num_leaves': 135, 'min_data_in_leaf': 12, 'feature_fraction': 0.6965023311543473, 'bagging_fraction': 0.5484747519317491, 'bagging_freq': 4, 'lambda_l1': 0.05427191112525044, 'lambda_l2': 0.33750983904890464}. Best is trial 18 with value: 1336645579274.6174.\n",
            "[I 2025-01-10 17:37:19,886] Trial 41 finished with value: 1358622252200.4502 and parameters: {'learning_rate': 0.0907912907368762, 'num_leaves': 60, 'min_data_in_leaf': 14, 'feature_fraction': 0.9993480321189933, 'bagging_fraction': 0.8893144548537261, 'bagging_freq': 1, 'lambda_l1': 7.266254104794831, 'lambda_l2': 2.4673577641421502}. Best is trial 18 with value: 1336645579274.6174.\n",
            "[I 2025-01-10 17:37:20,573] Trial 42 finished with value: 1390011732720.2239 and parameters: {'learning_rate': 0.09000084957926997, 'num_leaves': 58, 'min_data_in_leaf': 15, 'feature_fraction': 0.9811356995126077, 'bagging_fraction': 0.9000887295364899, 'bagging_freq': 1, 'lambda_l1': 4.227397336393602, 'lambda_l2': 1.5684395257313686}. Best is trial 18 with value: 1336645579274.6174.\n",
            "[I 2025-01-10 17:37:21,306] Trial 43 finished with value: 1422176452755.083 and parameters: {'learning_rate': 0.07414191053091866, 'num_leaves': 48, 'min_data_in_leaf': 11, 'feature_fraction': 0.9562511315092952, 'bagging_fraction': 0.9551845813239598, 'bagging_freq': 1, 'lambda_l1': 9.318194877224574, 'lambda_l2': 3.355157688078648}. Best is trial 18 with value: 1336645579274.6174.\n",
            "[I 2025-01-10 17:37:21,893] Trial 44 finished with value: 1429737732492.6748 and parameters: {'learning_rate': 0.09904413929345335, 'num_leaves': 21, 'min_data_in_leaf': 14, 'feature_fraction': 0.9914330464416341, 'bagging_fraction': 0.7699168920062127, 'bagging_freq': 2, 'lambda_l1': 0.5120139350297869, 'lambda_l2': 0.6446275646785133}. Best is trial 18 with value: 1336645579274.6174.\n",
            "[I 2025-01-10 17:37:24,613] Trial 45 finished with value: 1327732824401.93 and parameters: {'learning_rate': 0.08673895781198855, 'num_leaves': 84, 'min_data_in_leaf': 22, 'feature_fraction': 0.9274972063823443, 'bagging_fraction': 0.8145462932801908, 'bagging_freq': 1, 'lambda_l1': 1.4752458697977848, 'lambda_l2': 6.567906820156467}. Best is trial 45 with value: 1327732824401.93.\n",
            "[I 2025-01-10 17:37:26,655] Trial 46 finished with value: 1330596606662.827 and parameters: {'learning_rate': 0.07956661734613922, 'num_leaves': 84, 'min_data_in_leaf': 21, 'feature_fraction': 0.6095364572703363, 'bagging_fraction': 0.809707009108066, 'bagging_freq': 6, 'lambda_l1': 1.6146217210553953, 'lambda_l2': 0.16309611021840764}. Best is trial 45 with value: 1327732824401.93.\n",
            "[I 2025-01-10 17:37:27,706] Trial 47 finished with value: 1302448617080.9272 and parameters: {'learning_rate': 0.07715806656722066, 'num_leaves': 96, 'min_data_in_leaf': 23, 'feature_fraction': 0.63177248043731, 'bagging_fraction': 0.8119750578791157, 'bagging_freq': 6, 'lambda_l1': 1.269428295532457, 'lambda_l2': 0.09542721776099192}. Best is trial 47 with value: 1302448617080.9272.\n",
            "[I 2025-01-10 17:37:28,752] Trial 48 finished with value: 1314605712348.1096 and parameters: {'learning_rate': 0.06812137012656909, 'num_leaves': 95, 'min_data_in_leaf': 22, 'feature_fraction': 0.6028135763682909, 'bagging_fraction': 0.8127282138318502, 'bagging_freq': 6, 'lambda_l1': 1.6690148812830783e-07, 'lambda_l2': 0.007787543113226463}. Best is trial 47 with value: 1302448617080.9272.\n",
            "[I 2025-01-10 17:37:29,759] Trial 49 finished with value: 1323755919646.9387 and parameters: {'learning_rate': 0.053399552814853146, 'num_leaves': 95, 'min_data_in_leaf': 21, 'feature_fraction': 0.6113373631849557, 'bagging_fraction': 0.8159924310838684, 'bagging_freq': 6, 'lambda_l1': 1.2469379689861876e-07, 'lambda_l2': 0.005991471169175352}. Best is trial 47 with value: 1302448617080.9272.\n"
          ]
        },
        {
          "output_type": "stream",
          "name": "stdout",
          "text": [
            "Best Parameters: {'learning_rate': 0.07715806656722066, 'num_leaves': 96, 'min_data_in_leaf': 23, 'feature_fraction': 0.63177248043731, 'bagging_fraction': 0.8119750578791157, 'bagging_freq': 6, 'lambda_l1': 1.269428295532457, 'lambda_l2': 0.09542721776099192}\n",
            "Optimized LightGBM Model Performance:\n",
            "MAE: 313453.09, RMSE: 1141248.71, R²: 0.97\n"
          ]
        }
      ],
      "source": [
        "import optuna\n",
        "import lightgbm as lgb\n",
        "\n",
        "\n",
        "def objective(trial):\n",
        "    params = {\n",
        "        'objective': 'regression',\n",
        "        'metric': 'rmse',\n",
        "        'boosting_type': 'gbdt',\n",
        "        'learning_rate': trial.suggest_float('learning_rate', 0.01, 0.1, log=True),\n",
        "        'num_leaves': trial.suggest_int('num_leaves', 20, 150),\n",
        "        'min_data_in_leaf': trial.suggest_int('min_data_in_leaf', 10, 50),\n",
        "        'feature_fraction': trial.suggest_float('feature_fraction', 0.5, 1.0),\n",
        "        'bagging_fraction': trial.suggest_float('bagging_fraction', 0.5, 1.0),\n",
        "        'bagging_freq': trial.suggest_int('bagging_freq', 1, 7),\n",
        "        'lambda_l1': trial.suggest_float('lambda_l1', 1e-8, 10.0, log=True),\n",
        "        'lambda_l2': trial.suggest_float('lambda_l2', 1e-8, 10.0, log=True),\n",
        "        'verbosity': -1,  # Suppress LightGBM logs\n",
        "        'early_stopping_round': 10  # Specify early stopping here\n",
        "    }\n",
        "\n",
        "    lgb_train = lgb.Dataset(X_train, label=y_train)\n",
        "    lgb_test = lgb.Dataset(X_test, label=y_test, reference=lgb_train)\n",
        "\n",
        "    model = lgb.train(params, lgb_train, valid_sets=[lgb_test], num_boost_round=100)\n",
        "    preds = model.predict(X_test)\n",
        "    return mean_squared_error(y_test, preds)\n",
        "\n",
        "# Optimize hyperparameters\n",
        "study = optuna.create_study(direction='minimize')\n",
        "study.optimize(objective, n_trials=50)\n",
        "\n",
        "# Train optimized LightGBM model\n",
        "best_params = study.best_params\n",
        "print(\"Best Parameters:\", best_params)\n",
        "\n",
        "# Add verbosity to the best parameters\n",
        "best_params['verbosity'] = -1  # Suppress logs during training\n",
        "\n",
        "optimized_lgb_model = lgb.train(best_params, lgb.Dataset(X_train, label=y_train))\n",
        "\n",
        "# Predict on the test set\n",
        "y_pred_opt_lgb = optimized_lgb_model.predict(X_test)\n",
        "\n",
        "# Evaluate the optimized model\n",
        "mae_opt_lgb = mean_absolute_error(y_test, y_pred_opt_lgb)\n",
        "rmse_opt_lgb = np.sqrt(mean_squared_error(y_test, y_pred_opt_lgb))\n",
        "r2_opt_lgb = r2_score(y_test, y_pred_opt_lgb)\n",
        "\n",
        "print(f\"Optimized LightGBM Model Performance:\\nMAE: {mae_opt_lgb:.2f}, RMSE: {rmse_opt_lgb:.2f}, R²: {r2_opt_lgb:.2f}\")\n",
        "\n",
        "\n",
        "\n",
        "\n"
      ]
    },
    {
      "cell_type": "markdown",
      "metadata": {
        "id": "ynpuWvCd04Q-"
      },
      "source": [
        "**XGBoost**"
      ]
    },
    {
      "cell_type": "code",
      "execution_count": null,
      "metadata": {
        "colab": {
          "base_uri": "https://localhost:8080/"
        },
        "id": "-Hf27ItE065D",
        "outputId": "c2ac191d-71a5-47de-c8d5-af83dfeeeed5"
      },
      "outputs": [
        {
          "output_type": "stream",
          "name": "stdout",
          "text": [
            "Requirement already satisfied: xgboost in /usr/local/lib/python3.10/dist-packages (2.1.3)\n",
            "Requirement already satisfied: numpy in /usr/local/lib/python3.10/dist-packages (from xgboost) (1.26.4)\n",
            "Requirement already satisfied: nvidia-nccl-cu12 in /usr/local/lib/python3.10/dist-packages (from xgboost) (2.23.4)\n",
            "Requirement already satisfied: scipy in /usr/local/lib/python3.10/dist-packages (from xgboost) (1.13.1)\n"
          ]
        }
      ],
      "source": [
        "pip install xgboost\n"
      ]
    },
    {
      "cell_type": "code",
      "execution_count": null,
      "metadata": {
        "colab": {
          "base_uri": "https://localhost:8080/"
        },
        "id": "AW2b-Q1908m-",
        "outputId": "5b453cd0-34fc-4e04-d51c-e565dd50cd81"
      },
      "outputs": [
        {
          "output_type": "stream",
          "name": "stdout",
          "text": [
            "[0]\ttest-rmse:4707746.38965\n",
            "[1]\ttest-rmse:3509579.17991\n",
            "[2]\ttest-rmse:2705634.06063\n",
            "[3]\ttest-rmse:2169675.89838\n",
            "[4]\ttest-rmse:1828959.40194\n",
            "[5]\ttest-rmse:1614857.12453\n",
            "[6]\ttest-rmse:1490873.04643\n",
            "[7]\ttest-rmse:1411982.84141\n",
            "[8]\ttest-rmse:1358881.81184\n",
            "[9]\ttest-rmse:1320676.38684\n",
            "[10]\ttest-rmse:1301807.53802\n",
            "[11]\ttest-rmse:1296396.45999\n",
            "[12]\ttest-rmse:1292989.94960\n",
            "[13]\ttest-rmse:1290323.11146\n",
            "[14]\ttest-rmse:1284216.67908\n",
            "[15]\ttest-rmse:1280536.52814\n",
            "[16]\ttest-rmse:1291420.91557\n",
            "[17]\ttest-rmse:1290119.19379\n",
            "[18]\ttest-rmse:1290658.96153\n",
            "[19]\ttest-rmse:1291370.30795\n",
            "[20]\ttest-rmse:1282904.02465\n",
            "[21]\ttest-rmse:1275479.28517\n",
            "[22]\ttest-rmse:1271487.86124\n",
            "[23]\ttest-rmse:1264314.21638\n",
            "[24]\ttest-rmse:1263323.04785\n",
            "[25]\ttest-rmse:1261748.15103\n",
            "[26]\ttest-rmse:1262069.99554\n",
            "[27]\ttest-rmse:1266625.12729\n",
            "[28]\ttest-rmse:1261711.26671\n",
            "[29]\ttest-rmse:1260151.32661\n",
            "[30]\ttest-rmse:1259265.03777\n",
            "[31]\ttest-rmse:1253064.27488\n",
            "[32]\ttest-rmse:1250735.33166\n",
            "[33]\ttest-rmse:1250102.46426\n",
            "[34]\ttest-rmse:1246229.56797\n",
            "[35]\ttest-rmse:1245657.21816\n",
            "[36]\ttest-rmse:1247783.83867\n",
            "[37]\ttest-rmse:1246872.62569\n",
            "[38]\ttest-rmse:1246622.81429\n",
            "[39]\ttest-rmse:1249074.31762\n",
            "[40]\ttest-rmse:1246423.06073\n",
            "[41]\ttest-rmse:1244610.48084\n",
            "[42]\ttest-rmse:1246001.16349\n",
            "[43]\ttest-rmse:1246447.37955\n",
            "[44]\ttest-rmse:1246522.54144\n",
            "[45]\ttest-rmse:1245579.70507\n",
            "[46]\ttest-rmse:1248129.29577\n",
            "[47]\ttest-rmse:1246883.26566\n",
            "[48]\ttest-rmse:1245098.26326\n",
            "[49]\ttest-rmse:1246150.38793\n",
            "[50]\ttest-rmse:1250093.99781\n",
            "XGBoost Model Performance:\n",
            "MAE: 332136.76, RMSE: 1248410.68, R²: 0.96\n"
          ]
        }
      ],
      "source": [
        "import xgboost as xgb\n",
        "\n",
        "# Create DMatrix for XGBoost\n",
        "dtrain = xgb.DMatrix(X_train, label=y_train)\n",
        "dtest = xgb.DMatrix(X_test, label=y_test)\n",
        "\n",
        "# Define XGBoost parameters\n",
        "xgb_params = {\n",
        "    'objective': 'reg:squarederror',\n",
        "    'eval_metric': 'rmse',\n",
        "    'verbosity': 0\n",
        "}\n",
        "\n",
        "# Train XGBoost model\n",
        "xgb_model = xgb.train(\n",
        "    params=xgb_params,\n",
        "    dtrain=dtrain,\n",
        "    num_boost_round=100,\n",
        "    evals=[(dtest, 'test')],\n",
        "    early_stopping_rounds=10\n",
        ")\n",
        "\n",
        "# Predict on the test set\n",
        "y_pred_xgb = xgb_model.predict(dtest)\n",
        "\n",
        "# Evaluate the model\n",
        "mae_xgb = mean_absolute_error(y_test, y_pred_xgb)\n",
        "rmse_xgb = np.sqrt(mean_squared_error(y_test, y_pred_xgb))\n",
        "r2_xgb = r2_score(y_test, y_pred_xgb)\n",
        "\n",
        "print(f\"XGBoost Model Performance:\\nMAE: {mae_xgb:.2f}, RMSE: {rmse_xgb:.2f}, R²: {r2_xgb:.2f}\")\n"
      ]
    },
    {
      "cell_type": "markdown",
      "metadata": {
        "id": "DBrqadOCyi1Q"
      },
      "source": [
        "**Hyperparameter Tuning with Optuna**\n",
        "\n",
        "\n",
        "To further improve XGBoost performance, you can optimize its hyperparameters using Optuna."
      ]
    },
    {
      "cell_type": "code",
      "execution_count": null,
      "metadata": {
        "colab": {
          "base_uri": "https://localhost:8080/"
        },
        "id": "K02ceHxfyowl",
        "outputId": "e28bd916-d92c-49d4-f73f-a42599c1fe4a"
      },
      "outputs": [
        {
          "output_type": "stream",
          "name": "stderr",
          "text": [
            "[I 2025-01-10 17:52:23,599] A new study created in memory with name: no-name-b946d353-bd02-47bc-9590-476b9d337649\n",
            "[I 2025-01-10 17:52:26,230] Trial 0 finished with value: 2279212874288.067 and parameters: {'learning_rate': 0.021648285052661885, 'max_depth': 7, 'min_child_weight': 4, 'subsample': 0.6909731445714338, 'colsample_bytree': 0.8985525950304023, 'lambda': 0.01185137033061494, 'alpha': 2.673378709151855}. Best is trial 0 with value: 2279212874288.067.\n",
            "[I 2025-01-10 17:52:26,599] Trial 1 finished with value: 1816000300307.372 and parameters: {'learning_rate': 0.06955052004460927, 'max_depth': 3, 'min_child_weight': 10, 'subsample': 0.9310248853495522, 'colsample_bytree': 0.8145140588982234, 'lambda': 0.002067753201092552, 'alpha': 0.00011797059857933998}. Best is trial 1 with value: 1816000300307.372.\n",
            "[I 2025-01-10 17:52:26,958] Trial 2 finished with value: 1827271011028.1284 and parameters: {'learning_rate': 0.09337279888301844, 'max_depth': 3, 'min_child_weight': 9, 'subsample': 0.8336363843796712, 'colsample_bytree': 0.5359475268510885, 'lambda': 0.0038983927637340375, 'alpha': 1.9719454830914206e-05}. Best is trial 1 with value: 1816000300307.372.\n",
            "[I 2025-01-10 17:52:27,820] Trial 3 finished with value: 2999443217843.969 and parameters: {'learning_rate': 0.01791778985035695, 'max_depth': 8, 'min_child_weight': 9, 'subsample': 0.7319303907536059, 'colsample_bytree': 0.7407536954866054, 'lambda': 6.655371977785297e-05, 'alpha': 0.000123279144839981}. Best is trial 1 with value: 1816000300307.372.\n",
            "[I 2025-01-10 17:52:28,256] Trial 4 finished with value: 1726361701112.4387 and parameters: {'learning_rate': 0.05292591910317668, 'max_depth': 4, 'min_child_weight': 4, 'subsample': 0.9334684437029263, 'colsample_bytree': 0.9946134282565737, 'lambda': 0.0009626961098212052, 'alpha': 1.239625340377917}. Best is trial 4 with value: 1726361701112.4387.\n",
            "[I 2025-01-10 17:52:28,767] Trial 5 finished with value: 1544508541087.9329 and parameters: {'learning_rate': 0.08308524938054232, 'max_depth': 8, 'min_child_weight': 10, 'subsample': 0.5737461708747893, 'colsample_bytree': 0.5510137085062196, 'lambda': 1.0930078305945565e-08, 'alpha': 0.002699415341722986}. Best is trial 5 with value: 1544508541087.9329.\n",
            "[I 2025-01-10 17:52:29,732] Trial 6 finished with value: 1862492665245.8713 and parameters: {'learning_rate': 0.02600609304309903, 'max_depth': 8, 'min_child_weight': 3, 'subsample': 0.8666657990212485, 'colsample_bytree': 0.6663121961585114, 'lambda': 0.00270518118517096, 'alpha': 0.43715677138497866}. Best is trial 5 with value: 1544508541087.9329.\n",
            "[I 2025-01-10 17:52:31,445] Trial 7 finished with value: 1656050350430.5063 and parameters: {'learning_rate': 0.04318759650815981, 'max_depth': 5, 'min_child_weight': 10, 'subsample': 0.5523115305480901, 'colsample_bytree': 0.7512137831838026, 'lambda': 1.0410845009077765, 'alpha': 1.3094696174663048e-05}. Best is trial 5 with value: 1544508541087.9329.\n",
            "[I 2025-01-10 17:52:33,458] Trial 8 finished with value: 2869469645562.877 and parameters: {'learning_rate': 0.02216891938648426, 'max_depth': 5, 'min_child_weight': 3, 'subsample': 0.8663080945219205, 'colsample_bytree': 0.8278405112809216, 'lambda': 8.154622187258106, 'alpha': 1.2389435564331564e-08}. Best is trial 5 with value: 1544508541087.9329.\n",
            "[I 2025-01-10 17:52:33,998] Trial 9 finished with value: 5659084383098.987 and parameters: {'learning_rate': 0.013574951945312164, 'max_depth': 4, 'min_child_weight': 2, 'subsample': 0.9304938713708074, 'colsample_bytree': 0.6982677955675687, 'lambda': 5.010732817017425e-08, 'alpha': 1.7587530817788414e-08}. Best is trial 5 with value: 1544508541087.9329.\n",
            "[I 2025-01-10 17:52:35,087] Trial 10 finished with value: 1667563030658.8604 and parameters: {'learning_rate': 0.03766619052017661, 'max_depth': 10, 'min_child_weight': 7, 'subsample': 0.5261530440789973, 'colsample_bytree': 0.5046374741501364, 'lambda': 1.5851378199921023e-08, 'alpha': 0.013482967649946795}. Best is trial 5 with value: 1544508541087.9329.\n",
            "[I 2025-01-10 17:52:35,669] Trial 11 finished with value: 1707920930694.432 and parameters: {'learning_rate': 0.04237710593829294, 'max_depth': 6, 'min_child_weight': 7, 'subsample': 0.5173744066853363, 'colsample_bytree': 0.6095508899684967, 'lambda': 5.675970257480758, 'alpha': 1.360726156782974e-06}. Best is trial 5 with value: 1544508541087.9329.\n",
            "[I 2025-01-10 17:52:36,388] Trial 12 finished with value: 1569498223689.501 and parameters: {'learning_rate': 0.09846143068754981, 'max_depth': 10, 'min_child_weight': 7, 'subsample': 0.6119957037852499, 'colsample_bytree': 0.6112417520274138, 'lambda': 6.1427899401914746e-06, 'alpha': 0.0063533226761768305}. Best is trial 5 with value: 1544508541087.9329.\n",
            "[I 2025-01-10 17:52:37,155] Trial 13 finished with value: 1542418246744.9583 and parameters: {'learning_rate': 0.09043850755121623, 'max_depth': 10, 'min_child_weight': 7, 'subsample': 0.6353905437007165, 'colsample_bytree': 0.6029611179380332, 'lambda': 9.10076329592949e-07, 'alpha': 0.014690293120392153}. Best is trial 13 with value: 1542418246744.9583.\n",
            "[I 2025-01-10 17:52:37,951] Trial 14 finished with value: 1560860618428.2688 and parameters: {'learning_rate': 0.06651142344342711, 'max_depth': 9, 'min_child_weight': 6, 'subsample': 0.6389335697671289, 'colsample_bytree': 0.565183255931204, 'lambda': 5.653196250084686e-07, 'alpha': 0.009176273029978603}. Best is trial 13 with value: 1542418246744.9583.\n",
            "[I 2025-01-10 17:52:38,731] Trial 15 finished with value: 1488573436897.088 and parameters: {'learning_rate': 0.06975485433170267, 'max_depth': 9, 'min_child_weight': 8, 'subsample': 0.6064605352300132, 'colsample_bytree': 0.6114692558752534, 'lambda': 5.557228173169441e-07, 'alpha': 0.03247699325856309}. Best is trial 15 with value: 1488573436897.088.\n",
            "[I 2025-01-10 17:52:39,568] Trial 16 finished with value: 1488195276960.066 and parameters: {'learning_rate': 0.058822170518694664, 'max_depth': 9, 'min_child_weight': 8, 'subsample': 0.6627928464268797, 'colsample_bytree': 0.6361736992582048, 'lambda': 2.3891720529020954e-06, 'alpha': 0.06505450878556304}. Best is trial 16 with value: 1488195276960.066.\n",
            "[I 2025-01-10 17:52:40,456] Trial 17 finished with value: 1460365230935.516 and parameters: {'learning_rate': 0.06074946263231414, 'max_depth': 9, 'min_child_weight': 8, 'subsample': 0.7877941768469349, 'colsample_bytree': 0.6623624164100407, 'lambda': 5.561870797584865e-05, 'alpha': 0.0729760175763338}. Best is trial 17 with value: 1460365230935.516.\n",
            "[I 2025-01-10 17:52:41,138] Trial 18 finished with value: 1476309272213.197 and parameters: {'learning_rate': 0.053680456851880595, 'max_depth': 7, 'min_child_weight': 5, 'subsample': 0.7881964292639985, 'colsample_bytree': 0.6706508832293837, 'lambda': 5.386460680208752e-05, 'alpha': 0.19192006261961125}. Best is trial 17 with value: 1460365230935.516.\n",
            "[I 2025-01-10 17:52:41,854] Trial 19 finished with value: 1576591247952.2031 and parameters: {'learning_rate': 0.03428045689140135, 'max_depth': 7, 'min_child_weight': 5, 'subsample': 0.7862321312837661, 'colsample_bytree': 0.7402172799568114, 'lambda': 6.0822994724573397e-05, 'alpha': 9.756430277912791}. Best is trial 17 with value: 1460365230935.516.\n",
            "[I 2025-01-10 17:52:42,428] Trial 20 finished with value: 1485751342309.8728 and parameters: {'learning_rate': 0.05072112994698939, 'max_depth': 6, 'min_child_weight': 1, 'subsample': 0.7874477497629435, 'colsample_bytree': 0.6808914722541607, 'lambda': 0.0828752277314549, 'alpha': 0.18617319847405028}. Best is trial 17 with value: 1460365230935.516.\n",
            "[I 2025-01-10 17:52:43,032] Trial 21 finished with value: 1510218126941.7395 and parameters: {'learning_rate': 0.04891310297545801, 'max_depth': 6, 'min_child_weight': 1, 'subsample': 0.7698564174106101, 'colsample_bytree': 0.6871663350484133, 'lambda': 0.05823588197234688, 'alpha': 0.20956201287179238}. Best is trial 17 with value: 1460365230935.516.\n",
            "[I 2025-01-10 17:52:43,747] Trial 22 finished with value: 1626076312851.231 and parameters: {'learning_rate': 0.03098746798230808, 'max_depth': 7, 'min_child_weight': 1, 'subsample': 0.8091447520407021, 'colsample_bytree': 0.8097170472942711, 'lambda': 0.0001525270146567639, 'alpha': 0.2240177269392705}. Best is trial 17 with value: 1460365230935.516.\n",
            "[I 2025-01-10 17:52:44,528] Trial 23 finished with value: 1508688653439.4456 and parameters: {'learning_rate': 0.05519539620573183, 'max_depth': 6, 'min_child_weight': 5, 'subsample': 0.7305694743095048, 'colsample_bytree': 0.6632827222832146, 'lambda': 1.819701080687784e-05, 'alpha': 0.0016927878732938637}. Best is trial 17 with value: 1460365230935.516.\n",
            "[I 2025-01-10 17:52:46,492] Trial 24 finished with value: 1610646076113.5479 and parameters: {'learning_rate': 0.04645433918988599, 'max_depth': 5, 'min_child_weight': 6, 'subsample': 0.9853624767462765, 'colsample_bytree': 0.7044178192072812, 'lambda': 0.09520487828214658, 'alpha': 9.701142021612597}. Best is trial 17 with value: 1460365230935.516.\n",
            "[I 2025-01-10 17:52:48,299] Trial 25 finished with value: 1446602547702.6323 and parameters: {'learning_rate': 0.06538196995462262, 'max_depth': 8, 'min_child_weight': 2, 'subsample': 0.7122600601430182, 'colsample_bytree': 0.7754331149413659, 'lambda': 0.0005339322730659804, 'alpha': 0.0006056135860035117}. Best is trial 25 with value: 1446602547702.6323.\n",
            "[I 2025-01-10 17:52:49,020] Trial 26 finished with value: 1430022627077.2874 and parameters: {'learning_rate': 0.0744256435193886, 'max_depth': 8, 'min_child_weight': 3, 'subsample': 0.7063418238834419, 'colsample_bytree': 0.8653638205024468, 'lambda': 0.00035251847280486396, 'alpha': 0.0005107357210410991}. Best is trial 26 with value: 1430022627077.2874.\n",
            "[I 2025-01-10 17:52:49,731] Trial 27 finished with value: 1404892590004.7869 and parameters: {'learning_rate': 0.06787227930413195, 'max_depth': 8, 'min_child_weight': 2, 'subsample': 0.6948125393445586, 'colsample_bytree': 0.8758616398937027, 'lambda': 0.00032653088184197635, 'alpha': 0.0008402269203912459}. Best is trial 27 with value: 1404892590004.7869.\n",
            "[I 2025-01-10 17:52:50,476] Trial 28 finished with value: 1444458916250.149 and parameters: {'learning_rate': 0.07796891235703983, 'max_depth': 8, 'min_child_weight': 2, 'subsample': 0.68803706644694, 'colsample_bytree': 0.8999197712011103, 'lambda': 0.00048118479636172104, 'alpha': 0.0005100068121824589}. Best is trial 27 with value: 1404892590004.7869.\n",
            "[I 2025-01-10 17:52:51,183] Trial 29 finished with value: 1415430665636.2905 and parameters: {'learning_rate': 0.07914287229270109, 'max_depth': 8, 'min_child_weight': 3, 'subsample': 0.6961927846985029, 'colsample_bytree': 0.9142404653182349, 'lambda': 0.015908469632783223, 'alpha': 6.608306341900087e-06}. Best is trial 27 with value: 1404892590004.7869.\n",
            "[I 2025-01-10 17:52:52,046] Trial 30 finished with value: 1422257533441.4026 and parameters: {'learning_rate': 0.07793120379168446, 'max_depth': 9, 'min_child_weight': 3, 'subsample': 0.6872063050859856, 'colsample_bytree': 0.9057823234848256, 'lambda': 0.013259700647963883, 'alpha': 4.991936595196651e-07}. Best is trial 27 with value: 1404892590004.7869.\n",
            "[I 2025-01-10 17:52:52,889] Trial 31 finished with value: 1424186312446.2722 and parameters: {'learning_rate': 0.07956461479021526, 'max_depth': 9, 'min_child_weight': 3, 'subsample': 0.6840183435840311, 'colsample_bytree': 0.9107093805113529, 'lambda': 0.035802445271763524, 'alpha': 2.336154857031286e-07}. Best is trial 27 with value: 1404892590004.7869.\n",
            "[I 2025-01-10 17:52:53,738] Trial 32 finished with value: 1475790233200.0198 and parameters: {'learning_rate': 0.0823275202666102, 'max_depth': 9, 'min_child_weight': 4, 'subsample': 0.6844821448242333, 'colsample_bytree': 0.9322252432855402, 'lambda': 0.026227869401007364, 'alpha': 1.6824109876056837e-07}. Best is trial 27 with value: 1404892590004.7869.\n",
            "[I 2025-01-10 17:52:54,936] Trial 33 finished with value: 7217205803974.463 and parameters: {'learning_rate': 0.010147768552490272, 'max_depth': 9, 'min_child_weight': 3, 'subsample': 0.6559031199644778, 'colsample_bytree': 0.9623829252036442, 'lambda': 0.01034577219116938, 'alpha': 1.0565515506039453e-06}. Best is trial 27 with value: 1404892590004.7869.\n",
            "[I 2025-01-10 17:52:55,913] Trial 34 finished with value: 1405985976608.6306 and parameters: {'learning_rate': 0.0891144102990725, 'max_depth': 10, 'min_child_weight': 2, 'subsample': 0.7479219260517145, 'colsample_bytree': 0.8981224949189238, 'lambda': 0.4173018903418873, 'alpha': 1.5857723004191677e-05}. Best is trial 27 with value: 1404892590004.7869.\n",
            "[I 2025-01-10 17:52:56,933] Trial 35 finished with value: 1402778311408.3914 and parameters: {'learning_rate': 0.09552588935253903, 'max_depth': 10, 'min_child_weight': 2, 'subsample': 0.7399935866835003, 'colsample_bytree': 0.8542192570523127, 'lambda': 0.4972840992957434, 'alpha': 7.5845443182608396e-06}. Best is trial 35 with value: 1402778311408.3914.\n",
            "[I 2025-01-10 17:52:57,758] Trial 36 finished with value: 1451111600883.2622 and parameters: {'learning_rate': 0.09923877496682434, 'max_depth': 10, 'min_child_weight': 2, 'subsample': 0.7545454147822901, 'colsample_bytree': 0.8570229336162521, 'lambda': 0.5447134393012397, 'alpha': 2.5338067859838554e-05}. Best is trial 35 with value: 1402778311408.3914.\n",
            "[I 2025-01-10 17:52:58,649] Trial 37 finished with value: 1442077677712.1135 and parameters: {'learning_rate': 0.08781186123175025, 'max_depth': 10, 'min_child_weight': 4, 'subsample': 0.7392960232027449, 'colsample_bytree': 0.9516213620743179, 'lambda': 0.41485092456132233, 'alpha': 7.997764098652799e-06}. Best is trial 35 with value: 1402778311408.3914.\n",
            "[I 2025-01-10 17:53:01,887] Trial 38 finished with value: 1405528123288.8342 and parameters: {'learning_rate': 0.06411833251756349, 'max_depth': 10, 'min_child_weight': 1, 'subsample': 0.839721318169413, 'colsample_bytree': 0.8686845752767888, 'lambda': 1.6172341497119205, 'alpha': 9.392033048276161e-05}. Best is trial 35 with value: 1402778311408.3914.\n",
            "[I 2025-01-10 17:53:04,098] Trial 39 finished with value: 1463879233785.2168 and parameters: {'learning_rate': 0.06272262299584813, 'max_depth': 10, 'min_child_weight': 1, 'subsample': 0.8590517350130356, 'colsample_bytree': 0.865352342192742, 'lambda': 2.6147048830304027, 'alpha': 0.00012555309568470298}. Best is trial 35 with value: 1402778311408.3914.\n",
            "[I 2025-01-10 17:53:05,176] Trial 40 finished with value: 1408099234155.913 and parameters: {'learning_rate': 0.09106289884828385, 'max_depth': 10, 'min_child_weight': 2, 'subsample': 0.821027458587741, 'colsample_bytree': 0.999879514583075, 'lambda': 0.2051200545066258, 'alpha': 7.989018668912134e-05}. Best is trial 35 with value: 1402778311408.3914.\n",
            "[I 2025-01-10 17:53:06,267] Trial 41 finished with value: 1395456828288.6582 and parameters: {'learning_rate': 0.09143203936834424, 'max_depth': 10, 'min_child_weight': 2, 'subsample': 0.8369985878849744, 'colsample_bytree': 0.9939874141566825, 'lambda': 0.17714199128997346, 'alpha': 5.61015587590481e-05}. Best is trial 41 with value: 1395456828288.6582.\n",
            "[I 2025-01-10 17:53:07,459] Trial 42 finished with value: 1354443396576.5955 and parameters: {'learning_rate': 0.07213708278617038, 'max_depth': 10, 'min_child_weight': 1, 'subsample': 0.9073653574036854, 'colsample_bytree': 0.8356125226426478, 'lambda': 1.6312533383899719, 'alpha': 2.8918851384419094e-05}. Best is trial 42 with value: 1354443396576.5955.\n",
            "[I 2025-01-10 17:53:08,693] Trial 43 finished with value: 1399834311375.2615 and parameters: {'learning_rate': 0.06995154135699451, 'max_depth': 10, 'min_child_weight': 1, 'subsample': 0.9000493966239899, 'colsample_bytree': 0.835644695612961, 'lambda': 2.0098402160067352, 'alpha': 4.3873262863426486e-05}. Best is trial 42 with value: 1354443396576.5955.\n",
            "[I 2025-01-10 17:53:10,063] Trial 44 finished with value: 1477364501890.3467 and parameters: {'learning_rate': 0.07075132324838139, 'max_depth': 10, 'min_child_weight': 1, 'subsample': 0.9044929337501412, 'colsample_bytree': 0.8216620146194126, 'lambda': 0.004156816300597618, 'alpha': 3.7981917761488632e-06}. Best is trial 42 with value: 1354443396576.5955.\n",
            "[I 2025-01-10 17:53:11,078] Trial 45 finished with value: 3550320858407.541 and parameters: {'learning_rate': 0.017404664296358816, 'max_depth': 9, 'min_child_weight': 2, 'subsample': 0.9028495465851375, 'colsample_bytree': 0.7913240234464465, 'lambda': 3.8344092216261023, 'alpha': 3.827441984432547e-05}. Best is trial 42 with value: 1354443396576.5955.\n",
            "[I 2025-01-10 17:53:12,266] Trial 46 finished with value: 1428822702944.7527 and parameters: {'learning_rate': 0.09652175206819172, 'max_depth': 10, 'min_child_weight': 1, 'subsample': 0.9782923403135753, 'colsample_bytree': 0.8430438962330681, 'lambda': 1.1832675624672544, 'alpha': 0.0014431207473544795}. Best is trial 42 with value: 1354443396576.5955.\n",
            "[I 2025-01-10 17:53:13,417] Trial 47 finished with value: 1421588234864.952 and parameters: {'learning_rate': 0.07210540598293803, 'max_depth': 10, 'min_child_weight': 2, 'subsample': 0.8928375890683631, 'colsample_bytree': 0.9748133384028477, 'lambda': 8.937996956738857, 'alpha': 0.0001842478357921263}. Best is trial 42 with value: 1354443396576.5955.\n",
            "[I 2025-01-10 17:53:14,524] Trial 48 finished with value: 1904823684097.1736 and parameters: {'learning_rate': 0.05786246959818987, 'max_depth': 3, 'min_child_weight': 4, 'subsample': 0.9573259921193467, 'colsample_bytree': 0.7753121637296646, 'lambda': 0.1826194241791473, 'alpha': 2.6052649586173227e-06}. Best is trial 42 with value: 1354443396576.5955.\n",
            "[I 2025-01-10 17:53:17,753] Trial 49 finished with value: 1446130220342.515 and parameters: {'learning_rate': 0.04166634956103313, 'max_depth': 9, 'min_child_weight': 1, 'subsample': 0.938613962281448, 'colsample_bytree': 0.8804361163785706, 'lambda': 0.0013760660014127428, 'alpha': 3.3229588318646136e-05}. Best is trial 42 with value: 1354443396576.5955.\n"
          ]
        },
        {
          "output_type": "stream",
          "name": "stdout",
          "text": [
            "Best Parameters: {'learning_rate': 0.07213708278617038, 'max_depth': 10, 'min_child_weight': 1, 'subsample': 0.9073653574036854, 'colsample_bytree': 0.8356125226426478, 'lambda': 1.6312533383899719, 'alpha': 2.8918851384419094e-05}\n",
            "Optimized XGBoost Model Performance:\n",
            "MAE: 288352.02, RMSE: 1163805.57, R²: 0.97\n"
          ]
        }
      ],
      "source": [
        "import optuna\n",
        "\n",
        "def objective(trial):\n",
        "    params = {\n",
        "        'objective': 'reg:squarederror',\n",
        "        'eval_metric': 'rmse',\n",
        "        'learning_rate': trial.suggest_float('learning_rate', 0.01, 0.1, log=True),\n",
        "        'max_depth': trial.suggest_int('max_depth', 3, 10),\n",
        "        'min_child_weight': trial.suggest_int('min_child_weight', 1, 10),\n",
        "        'subsample': trial.suggest_float('subsample', 0.5, 1.0),\n",
        "        'colsample_bytree': trial.suggest_float('colsample_bytree', 0.5, 1.0),\n",
        "        'lambda': trial.suggest_float('lambda', 1e-8, 10.0, log=True),\n",
        "        'alpha': trial.suggest_float('alpha', 1e-8, 10.0, log=True),\n",
        "    }\n",
        "\n",
        "    xgb_model = xgb.train(\n",
        "        params=params,\n",
        "        dtrain=dtrain,\n",
        "        num_boost_round=100,\n",
        "        evals=[(dtest, 'test')],\n",
        "        early_stopping_rounds=10,\n",
        "        verbose_eval=False\n",
        "    )\n",
        "    preds = xgb_model.predict(dtest)\n",
        "    return mean_squared_error(y_test, preds)\n",
        "\n",
        "# Optimize hyperparameters\n",
        "study = optuna.create_study(direction='minimize')\n",
        "study.optimize(objective, n_trials=50)\n",
        "\n",
        "# Train XGBoost with best parameters\n",
        "best_params = study.best_params\n",
        "print(\"Best Parameters:\", best_params)\n",
        "\n",
        "xgb_model_optimized = xgb.train(\n",
        "    params=best_params,\n",
        "    dtrain=dtrain,\n",
        "    num_boost_round=100,\n",
        "    evals=[(dtest, 'test')],\n",
        "    early_stopping_rounds=10,\n",
        "    verbose_eval=False\n",
        ")\n",
        "y_pred_xgb_opt = xgb_model_optimized.predict(dtest)\n",
        "# Evaluate the optimized model\n",
        "mae_xgb_opt = mean_absolute_error(y_test, y_pred_xgb_opt)\n",
        "rmse_xgb_opt = np.sqrt(mean_squared_error(y_test, y_pred_xgb_opt))\n",
        "r2_xgb_opt = r2_score(y_test, y_pred_xgb_opt)\n",
        "\n",
        "print(f\"Optimized XGBoost Model Performance:\\nMAE: {mae_xgb_opt:.2f}, RMSE: {rmse_xgb_opt:.2f}, R²: {r2_xgb_opt:.2f}\")\n",
        "\n"
      ]
    },
    {
      "cell_type": "code",
      "execution_count": null,
      "metadata": {
        "colab": {
          "base_uri": "https://localhost:8080/"
        },
        "id": "YOOicFTU3fz3",
        "outputId": "dfd5e87f-04fa-455f-dc17-0c83b6fcc523"
      },
      "outputs": [
        {
          "output_type": "stream",
          "name": "stdout",
          "text": [
            "Collecting catboost\n",
            "  Downloading catboost-1.2.7-cp310-cp310-manylinux2014_x86_64.whl.metadata (1.2 kB)\n",
            "Requirement already satisfied: graphviz in /usr/local/lib/python3.10/dist-packages (from catboost) (0.20.3)\n",
            "Requirement already satisfied: matplotlib in /usr/local/lib/python3.10/dist-packages (from catboost) (3.10.0)\n",
            "Requirement already satisfied: numpy<2.0,>=1.16.0 in /usr/local/lib/python3.10/dist-packages (from catboost) (1.26.4)\n",
            "Requirement already satisfied: pandas>=0.24 in /usr/local/lib/python3.10/dist-packages (from catboost) (2.2.2)\n",
            "Requirement already satisfied: scipy in /usr/local/lib/python3.10/dist-packages (from catboost) (1.13.1)\n",
            "Requirement already satisfied: plotly in /usr/local/lib/python3.10/dist-packages (from catboost) (5.24.1)\n",
            "Requirement already satisfied: six in /usr/local/lib/python3.10/dist-packages (from catboost) (1.17.0)\n",
            "Requirement already satisfied: python-dateutil>=2.8.2 in /usr/local/lib/python3.10/dist-packages (from pandas>=0.24->catboost) (2.8.2)\n",
            "Requirement already satisfied: pytz>=2020.1 in /usr/local/lib/python3.10/dist-packages (from pandas>=0.24->catboost) (2024.2)\n",
            "Requirement already satisfied: tzdata>=2022.7 in /usr/local/lib/python3.10/dist-packages (from pandas>=0.24->catboost) (2024.2)\n",
            "Requirement already satisfied: contourpy>=1.0.1 in /usr/local/lib/python3.10/dist-packages (from matplotlib->catboost) (1.3.1)\n",
            "Requirement already satisfied: cycler>=0.10 in /usr/local/lib/python3.10/dist-packages (from matplotlib->catboost) (0.12.1)\n",
            "Requirement already satisfied: fonttools>=4.22.0 in /usr/local/lib/python3.10/dist-packages (from matplotlib->catboost) (4.55.3)\n",
            "Requirement already satisfied: kiwisolver>=1.3.1 in /usr/local/lib/python3.10/dist-packages (from matplotlib->catboost) (1.4.8)\n",
            "Requirement already satisfied: packaging>=20.0 in /usr/local/lib/python3.10/dist-packages (from matplotlib->catboost) (24.2)\n",
            "Requirement already satisfied: pillow>=8 in /usr/local/lib/python3.10/dist-packages (from matplotlib->catboost) (11.1.0)\n",
            "Requirement already satisfied: pyparsing>=2.3.1 in /usr/local/lib/python3.10/dist-packages (from matplotlib->catboost) (3.2.1)\n",
            "Requirement already satisfied: tenacity>=6.2.0 in /usr/local/lib/python3.10/dist-packages (from plotly->catboost) (9.0.0)\n",
            "Downloading catboost-1.2.7-cp310-cp310-manylinux2014_x86_64.whl (98.7 MB)\n",
            "\u001b[2K   \u001b[90m━━━━━━━━━━━━━━━━━━━━━━━━━━━━━━━━━━━━━━━━\u001b[0m \u001b[32m98.7/98.7 MB\u001b[0m \u001b[31m23.6 MB/s\u001b[0m eta \u001b[36m0:00:00\u001b[0m\n",
            "\u001b[?25hInstalling collected packages: catboost\n",
            "Successfully installed catboost-1.2.7\n"
          ]
        }
      ],
      "source": [
        "pip install catboost"
      ]
    },
    {
      "cell_type": "markdown",
      "metadata": {
        "id": "FMb2fmhw6jzj"
      },
      "source": [
        "**CatBoost**\n",
        "\n",
        "CatBoost is effective when working with categorical data and does not require manual encoding."
      ]
    },
    {
      "cell_type": "code",
      "execution_count": null,
      "metadata": {
        "colab": {
          "base_uri": "https://localhost:8080/"
        },
        "id": "bRon9Lru3VcX",
        "outputId": "048119e0-4dbe-4649-bd03-105ce5cdfa2f"
      },
      "outputs": [
        {
          "output_type": "stream",
          "name": "stdout",
          "text": [
            "CatBoost Model Performance:\n",
            "MAE: 339011.42, RMSE: 1211049.17, R²: 0.96\n"
          ]
        }
      ],
      "source": [
        "from catboost import CatBoostRegressor\n",
        "from sklearn.metrics import mean_squared_error, r2_score\n",
        "\n",
        "# Train CatBoost model\n",
        "cat_model = CatBoostRegressor(iterations=1000, depth=10, learning_rate=0.05, loss_function='RMSE', verbose=100)\n",
        "cat_model.fit(X_train, y_train, eval_set=(X_test, y_test), early_stopping_rounds=10, verbose=False)\n",
        "\n",
        "# Predict on the test set\n",
        "y_pred_cat = cat_model.predict(X_test)\n",
        "\n",
        "# Evaluate the CatBoost model\n",
        "mae_cat = mean_absolute_error(y_test, y_pred_cat)\n",
        "rmse_cat = np.sqrt(mean_squared_error(y_test, y_pred_cat))\n",
        "r2_cat = r2_score(y_test, y_pred_cat)\n",
        "\n",
        "print(f\"CatBoost Model Performance:\\nMAE: {mae_cat:.2f}, RMSE: {rmse_cat:.2f}, R²: {r2_cat:.2f}\")\n",
        "\n"
      ]
    },
    {
      "cell_type": "markdown",
      "metadata": {
        "id": "R_oIM2GY6oOh"
      },
      "source": [
        "**Combined Model**"
      ]
    },
    {
      "cell_type": "code",
      "execution_count": null,
      "metadata": {
        "colab": {
          "base_uri": "https://localhost:8080/"
        },
        "id": "y2pkzmct6q4r",
        "outputId": "e99de667-dee2-4561-9a11-38055f54a229"
      },
      "outputs": [
        {
          "output_type": "stream",
          "name": "stdout",
          "text": [
            "Optimal Weights: [0.33333333 0.33333333 0.33333333]\n",
            "Ensemble Model Performance:\n",
            "MAE: 311101.64, RMSE: 1125478.33, R²: 0.97\n"
          ]
        }
      ],
      "source": [
        "from scipy.optimize import minimize\n",
        "from sklearn.metrics import mean_squared_error\n",
        "\n",
        "# Define predictions from different models\n",
        "predictions = {\n",
        "    'xgb': y_pred_xgb,\n",
        "    'catboost': y_pred_cat,\n",
        "    'lightgbm': y_pred_opt_lgb\n",
        "}\n",
        "\n",
        "# Define objective function to minimize MSE\n",
        "def objective(weights):\n",
        "    ensemble_pred = (\n",
        "        weights[0] * predictions['xgb'] +\n",
        "        weights[1] * predictions['catboost'] +\n",
        "        weights[2] * predictions['lightgbm']\n",
        "    )\n",
        "    return mean_squared_error(y_test, ensemble_pred)\n",
        "\n",
        "# Constraints: Weights must sum to 1\n",
        "constraints = ({'type': 'eq', 'fun': lambda w: sum(w) - 1})\n",
        "\n",
        "# Bounds: Weights must be between 0 and 1\n",
        "bounds = [(0, 1) for _ in range(len(predictions))]\n",
        "\n",
        "# Initial weights (equal weights)\n",
        "initial_weights = [1/len(predictions)] * len(predictions)\n",
        "\n",
        "# Optimize weights\n",
        "result = minimize(objective, initial_weights, constraints=constraints, bounds=bounds)\n",
        "\n",
        "# Optimal weights\n",
        "optimal_weights = result.x\n",
        "print(\"Optimal Weights:\", optimal_weights)\n",
        "\n",
        "# Compute ensemble predictions with optimal weights\n",
        "y_pred_ensemble = (\n",
        "    optimal_weights[0] * predictions['xgb'] +\n",
        "    optimal_weights[1] * predictions['catboost'] +\n",
        "    optimal_weights[2] * predictions['lightgbm']\n",
        ")\n",
        "\n",
        "# Evaluate ensemble performance\n",
        "mae_ensemble = mean_absolute_error(y_test, y_pred_ensemble)\n",
        "rmse_ensemble = np.sqrt(mean_squared_error(y_test, y_pred_ensemble))\n",
        "r2_ensemble = r2_score(y_test, y_pred_ensemble)\n",
        "\n",
        "print(f\"Ensemble Model Performance:\\nMAE: {mae_ensemble:.2f}, RMSE: {rmse_ensemble:.2f}, R²: {r2_ensemble:.2f}\")\n"
      ]
    },
    {
      "cell_type": "code",
      "execution_count": null,
      "metadata": {
        "colab": {
          "base_uri": "https://localhost:8080/"
        },
        "id": "NIg3w_SL7ZDg",
        "outputId": "c0375443-1757-4ce1-f505-dd62e27cbfb0"
      },
      "outputs": [
        {
          "output_type": "stream",
          "name": "stdout",
          "text": [
            "New Optimal Weights: [0.1 0.1 0.8]\n",
            "Updated Optimized Ensemble Model Performance:\n",
            "MAE: 309783.33, RMSE: 1119936.41, R²: 0.97\n"
          ]
        }
      ],
      "source": [
        "# New initial weights based on manual observation\n",
        "initial_weights = [0.1, 0.1, 0.8]\n",
        "\n",
        "# Re-optimize weights\n",
        "result = minimize(objective, initial_weights, constraints=constraints, bounds=bounds)\n",
        "optimal_weights_new = result.x\n",
        "print(\"New Optimal Weights:\", optimal_weights_new)\n",
        "\n",
        "# Compute ensemble predictions with updated optimal weights\n",
        "y_pred_ensemble_new = (\n",
        "    optimal_weights_new[0] * predictions['xgb'] +\n",
        "    optimal_weights_new[1] * predictions['catboost'] +\n",
        "    optimal_weights_new[2] * predictions['lightgbm']\n",
        ")\n",
        "\n",
        "# Evaluate updated optimized ensemble model\n",
        "mae_ensemble_new = mean_absolute_error(y_test, y_pred_ensemble_new)\n",
        "rmse_ensemble_new = np.sqrt(mean_squared_error(y_test, y_pred_ensemble_new))\n",
        "r2_ensemble_new = r2_score(y_test, y_pred_ensemble_new)\n",
        "\n",
        "print(f\"Updated Optimized Ensemble Model Performance:\\nMAE: {mae_ensemble_new:.2f}, RMSE: {rmse_ensemble_new:.2f}, R²: {r2_ensemble_new:.2f}\")\n",
        "\n"
      ]
    },
    {
      "cell_type": "markdown",
      "source": [
        "SHAP"
      ],
      "metadata": {
        "id": "eZENSy96Urpo"
      }
    },
    {
      "cell_type": "code",
      "execution_count": null,
      "metadata": {
        "colab": {
          "base_uri": "https://localhost:8080/",
          "height": 1000
        },
        "id": "ItxtdwcY-hSw",
        "outputId": "f4bd1be5-e55b-45dc-925a-e0d970843ae7"
      },
      "outputs": [
        {
          "output_type": "stream",
          "name": "stderr",
          "text": [
            " 99%|===================| 35820/36005 [01:30<00:00]       "
          ]
        },
        {
          "output_type": "display_data",
          "data": {
            "text/plain": [
              "<Figure size 800x910 with 2 Axes>"
            ],
            "image/png": "[encoded data removed]"
          },
          "metadata": {}
        },
        {
          "output_type": "display_data",
          "data": {
            "text/plain": [
              "<Figure size 800x910 with 1 Axes>"
            ],
            "image/png": "[encoded data removed]"
          },
          "metadata": {}
        }
      ],
      "source": [
        "import shap\n",
        "\n",
        "# Explain model predictions using SHAP\n",
        "explainer = shap.Explainer(optimized_lgb_model, X_train)\n",
        "shap_values = explainer(X_test)\n",
        "\n",
        "# Summary plot\n",
        "shap.summary_plot(shap_values, X_test)\n",
        "\n",
        "# Bar plot of feature importance\n",
        "shap.summary_plot(shap_values, X_test, plot_type='bar')\n"
      ]
    }
  ],
  "metadata": {
    "accelerator": "GPU",
    "colab": {
      "gpuType": "T4",
      "machine_shape": "hm",
      "provenance": []
    },
    "kernelspec": {
      "display_name": "Python 3",
      "name": "python3"
    },
    "language_info": {
      "name": "python"
    }
  },
  "nbformat": 4,
  "nbformat_minor": 0
}